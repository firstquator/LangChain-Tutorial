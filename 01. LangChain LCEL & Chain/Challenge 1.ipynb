{
 "cells": [
  {
   "cell_type": "markdown",
   "metadata": {},
   "source": [
    "### 📖 프로그래밍 언어에 대한 시를 쓰는데 특화된 체인과 시를 설명하는 데 특화된 체인을 만드세요.\n",
    "\n",
    "- `LCEL (LangChain Expression Language)` 을 사용해 두 체인을 서로 연결합니다.\n",
    "\n",
    "- 최종 체인은 `프로그래밍 언어의 이름을 받고`, `시와 그 설명으로 응답`해야 합니다.\n",
    "\n",
    "- 모델로는 `'gpt-3.5-turbo'`를 사용하고 프롬프트에는 `ChatPromptTemplate` 을 사용하세요."
   ]
  },
  {
   "cell_type": "markdown",
   "metadata": {},
   "source": [
    "#### 💻 각 셀마다 결과 확인하기"
   ]
  },
  {
   "cell_type": "code",
   "execution_count": null,
   "metadata": {},
   "outputs": [],
   "source": [
    "# True  → 각 셀마다 결과 실행 O\n",
    "# False → 각 셀마다 결과 실행 X\n",
    "DEBUG = False"
   ]
  },
  {
   "cell_type": "markdown",
   "metadata": {},
   "source": [
    "#### 💡 사용할 라이브러리 및 모듈 import 하기"
   ]
  },
  {
   "cell_type": "code",
   "execution_count": null,
   "metadata": {},
   "outputs": [],
   "source": [
    "from langchain.chat_models import ChatOpenAI\n",
    "from langchain.prompts import ChatPromptTemplate\n",
    "from langchain.callbacks import StreamingStdOutCallbackHandler"
   ]
  },
  {
   "cell_type": "markdown",
   "metadata": {},
   "source": [
    "#### 💡 모델(Model) 생성하기"
   ]
  },
  {
   "cell_type": "code",
   "execution_count": null,
   "metadata": {},
   "outputs": [],
   "source": [
    "chat = ChatOpenAI(\n",
    "    temperature=0.1,        # 창의성 (0 ~ 2)\n",
    "    model='gpt-3.5-turbo',  # 사용 모델 지정 (Default : gpt-3.5-turbo)\n",
    "    streaming=True,         # Streaming ON\n",
    "    callbacks=[StreamingStdOutCallbackHandler()]\n",
    ")"
   ]
  },
  {
   "cell_type": "markdown",
   "metadata": {},
   "source": [
    "#### 💡 프로그래밍 언어에 대한 시를 쓰는 프롬프트 템플릿 생성 & 체인 생성"
   ]
  },
  {
   "cell_type": "code",
   "execution_count": null,
   "metadata": {},
   "outputs": [],
   "source": [
    "programming_Haikus_template = ChatPromptTemplate.from_messages([\n",
    "    ('system', '너는 정말 훌륭한 시인이야. 특히, 프로그래밍 언어에 대한 시를 쓰는데 전문가지. 너는 제시하는 프로그래밍 언어에 대한 시를 작성해줘야 해.'),\n",
    "    ('human', '나는 {programming_language} 에 대한 시를 작성해줘.')\n",
    "])\n",
    "\n",
    "programming_Haikus_chain = programming_Haikus_template | chat\n",
    "\n",
    "if DEBUG:\n",
    "    response = programming_Haikus_chain.invoke({\n",
    "        'programming_language': 'python',\n",
    "    })"
   ]
  },
  {
   "cell_type": "markdown",
   "metadata": {},
   "source": [
    "#### 💡 시를 설명하는 프롬프트 템플릿 생성 & 체인 생성"
   ]
  },
  {
   "cell_type": "code",
   "execution_count": null,
   "metadata": {},
   "outputs": [],
   "source": [
    "# 시를 설명하는 템플릿 생성\n",
    "harikus_description_template = ChatPromptTemplate.from_messages([\n",
    "    ('system', '너는 뛰어난 시 해석 전문가야. 너는 시를 보고, 입력받은 시를 똑같이 보여주고, 그 시에 대한 설명을 말해줘야 해'),\n",
    "    ('human', '{harikus}')\n",
    "])\n",
    "\n",
    "# 체인 생성\n",
    "harikus_description_chain = harikus_description_template | chat\n",
    "\n",
    "if DEBUG:\n",
    "    example_harikus = '''파이썬(Python)이여, 너의 아름다움은\n",
    "    가독성과 간결함으로 빛을 발하네\n",
    "    들여다보면 모든 것이 명확해지고\n",
    "    코드를 작성하는 나의 마음을 안정시켜주네\n",
    "\n",
    "    들여다보면 파이썬의 심장은 듬직하고\n",
    "    모듈과 패키지로 둘러싸여 힘을 얻네\n",
    "    데이터 분석, 웹 개발, 인공지능까지\n",
    "    다양한 분야에서 네 빛을 발하네\n",
    "\n",
    "    인간다운 문법으로 쉽게 다가와\n",
    "    프로그래밍을 처음 시작하는 이에게도\n",
    "    친절하게 안내해주는 파이썬이여\n",
    "    너의 아름다움에 경박함을 느끼네\n",
    "\n",
    "    파이썬(Python)이여, 너의 우아함과 힘\n",
    "    프로그래머의 마음을 사로잡아 가네\n",
    "    너의 코드 속에 나의 꿈과 열정을 담아\n",
    "    세상을 변화시키는 여정을 떠나네'''\n",
    "\n",
    "    harikus_description_chain.invoke({\n",
    "        'harikus': example_harikus,\n",
    "    })"
   ]
  },
  {
   "cell_type": "markdown",
   "metadata": {},
   "source": [
    "#### 💡 프로그래밍 언어에 대한 시를 쓰는 체인과 시를 해석하는 체인을 하나로 연결"
   ]
  },
  {
   "cell_type": "code",
   "execution_count": 30,
   "metadata": {},
   "outputs": [
    {
     "name": "stdout",
     "output_type": "stream",
     "text": [
      "확실한 선택, Python에 대한 시를 써보겠습니다.\n",
      "\n",
      "파이썬(Python)아, 너의 매력은\n",
      "가독성과 간결함 속에 담겨 있네\n",
      "들여쓰기로 블록을 구분하고\n",
      "문법도 쉽고 자연스럽게 흘러가네\n",
      "\n",
      "라이브러리와 모듈이 풍부해\n",
      "데이터 처리도 쉽게 이루어지고\n",
      "웹 개발, 인공지능까지\n",
      "다양한 분야에서 빛을 발하네\n",
      "\n",
      "파이썬(Python)아, 너의 우아함은\n",
      "개발자들의 마음을 사로잡아\n",
      "세상을 더 아름답게 만들어주는\n",
      "그 힘찬 모습에 박수를 보내네확실한 선택, Python에 대한 시를 써주셨군요. 아래는 입력받은 시의 내용과 설명입니다.\n",
      "\n",
      "---\n",
      "\n",
      "파이썬(Python)아, 너의 매력은  \n",
      "가독성과 간결함 속에 담겨 있네  \n",
      "들여쓰기로 블록을 구분하고  \n",
      "문법도 쉽고 자연스럽게 흘러가네  \n",
      "\n",
      "이 시는 파이썬이 가지고 있는 매력에 대해 표현한 것입니다. 파이썬은 가독성이 뛰어나고 간결한 문법을 가지고 있어서 많은 개발자들에게 인기가 있는 프로그래밍 언어입니다. 들여쓰기로 블록을 구분하고 문법이 자연스럽게 흘러가는 특징이 있어 초보자부터 전문가까지 다양한 사용자들이 쉽게 다가갈 수 있습니다.\n",
      "\n",
      "라이브러리와 모듈이 풍부해  \n",
      "데이터 처리도 쉽게 이루어지고  \n",
      "웹 개발, 인공지능까지  \n",
      "다양한 분야에서 빛을 발하네  \n",
      "\n",
      "또한, 파이썬은 다양한 라이브러리와 모듈을 제공하여 데이터 처리, 웹 개발, 인공지능 등 다양한 분야에서 활용될 수 있습니다. 이러한 다양성과 확장성으로 인해 파이썬은 많은 분야에서 빛을 발하고 있습니다.\n",
      "\n",
      "파이썬(Python)아, 너의 우아함은  \n",
      "개발자들의 마음을 사로잡아  \n",
      "세상을 더 아름답게 만들어주는  \n",
      "그 힘찬 모습에 박수를 보내네  \n",
      "\n",
      "마지막으로, 파이썬은 우아하고 강력한 언어로서 개발자들의 마음을 사로잡고, 세상을 더 아름답게 만들어주는 역할을 합니다. 파이썬의 힘찬 모습에 박수를 보내며, 이 언어의 매력을 표현한 시입니다.\n",
      "\n",
      "---\n",
      "\n",
      "이렇게 입력받은 시에 대한 설명을 해보았습니다. 파이썬에 대한 매력을 잘 표현한 시네요. 추가로 설명이 필요하시면 언제든지 말씀해주세요."
     ]
    },
    {
     "data": {
      "text/plain": [
       "AIMessage(content='확실한 선택, Python에 대한 시를 써주셨군요. 아래는 입력받은 시의 내용과 설명입니다.\\n\\n---\\n\\n파이썬(Python)아, 너의 매력은  \\n가독성과 간결함 속에 담겨 있네  \\n들여쓰기로 블록을 구분하고  \\n문법도 쉽고 자연스럽게 흘러가네  \\n\\n이 시는 파이썬이 가지고 있는 매력에 대해 표현한 것입니다. 파이썬은 가독성이 뛰어나고 간결한 문법을 가지고 있어서 많은 개발자들에게 인기가 있는 프로그래밍 언어입니다. 들여쓰기로 블록을 구분하고 문법이 자연스럽게 흘러가는 특징이 있어 초보자부터 전문가까지 다양한 사용자들이 쉽게 다가갈 수 있습니다.\\n\\n라이브러리와 모듈이 풍부해  \\n데이터 처리도 쉽게 이루어지고  \\n웹 개발, 인공지능까지  \\n다양한 분야에서 빛을 발하네  \\n\\n또한, 파이썬은 다양한 라이브러리와 모듈을 제공하여 데이터 처리, 웹 개발, 인공지능 등 다양한 분야에서 활용될 수 있습니다. 이러한 다양성과 확장성으로 인해 파이썬은 많은 분야에서 빛을 발하고 있습니다.\\n\\n파이썬(Python)아, 너의 우아함은  \\n개발자들의 마음을 사로잡아  \\n세상을 더 아름답게 만들어주는  \\n그 힘찬 모습에 박수를 보내네  \\n\\n마지막으로, 파이썬은 우아하고 강력한 언어로서 개발자들의 마음을 사로잡고, 세상을 더 아름답게 만들어주는 역할을 합니다. 파이썬의 힘찬 모습에 박수를 보내며, 이 언어의 매력을 표현한 시입니다.\\n\\n---\\n\\n이렇게 입력받은 시에 대한 설명을 해보았습니다. 파이썬에 대한 매력을 잘 표현한 시네요. 추가로 설명이 필요하시면 언제든지 말씀해주세요.', additional_kwargs={}, response_metadata={'finish_reason': 'stop'}, id='run-f205a027-3de2-48eb-b539-fc392078a843-0')"
      ]
     },
     "execution_count": 30,
     "metadata": {},
     "output_type": "execute_result"
    }
   ],
   "source": [
    "# 최종 체인 생성\n",
    "programming_harikus_final_chain = {'harikus' : programming_Haikus_chain} | harikus_description_chain\n",
    "\n",
    "# 실행\n",
    "programming_harikus_final_chain.invoke({\n",
    "    'programming_language': input(\"프로그래밍 언어를 입력하세요 : \"),\n",
    "})"
   ]
  },
  {
   "cell_type": "markdown",
   "metadata": {},
   "source": [
    "#### 🔍 최종 OUTPUT\n",
    "\n",
    "```text\n",
    "확실한 선택, Python에 대한 시를 써보겠습니다.\n",
    "\n",
    "파이썬(Python)아, 너의 매력은\n",
    "가독성과 간결함 속에 담겨 있네\n",
    "들여쓰기로 블록을 구분하고\n",
    "문법도 쉽고 자연스럽게 흘러가네\n",
    "\n",
    "라이브러리와 모듈이 풍부해\n",
    "데이터 처리도 쉽게 이루어지고\n",
    "웹 개발, 인공지능까지\n",
    "다양한 분야에서 빛을 발하네\n",
    "\n",
    "파이썬(Python)아, 너의 우아함은\n",
    "개발자들의 마음을 사로잡아\n",
    "세상을 더 아름답게 만들어주는\n",
    "그 힘찬 모습에 박수를 보내네\n",
    "\n",
    "---\n",
    "\n",
    "확실한 선택, Python에 대한 시를 써주셨군요. 아래는 입력받은 시의 내용과 설명입니다.\n",
    "\n",
    "파이썬(Python)아, 너의 매력은  \n",
    "가독성과 간결함 속에 담겨 있네  \n",
    "들여쓰기로 블록을 구분하고  \n",
    "문법도 쉽고 자연스럽게 흘러가네  \n",
    "\n",
    "이 시는 파이썬이 가지고 있는 매력에 대해 표현한 것입니다. 파이썬은 가독성이 뛰어나고 간결한 문법을 가지고 있어서 많은 개발자들에게 인기가 있는 프로그래밍 언어입니다. 들여쓰기로 블록을 구분하고 문법이 자연스럽게 흘러가는 특징이 있어 초보자부터 전문가까지 다양한 사용자들이 쉽게 다가갈 수 있습니다.\n",
    "\n",
    "라이브러리와 모듈이 풍부해  \n",
    "데이터 처리도 쉽게 이루어지고  \n",
    "웹 개발, 인공지능까지  \n",
    "다양한 분야에서 빛을 발하네  \n",
    "\n",
    "또한, 파이썬은 다양한 라이브러리와 모듈을 제공하여 데이터 처리, 웹 개발, 인공지능 등 다양한 분야에서 활용될 수 있습니다. 이러한 다양성과 확장성으로 인해 파이썬은 많은 분야에서 빛을 발하고 있습니다.\n",
    "\n",
    "파이썬(Python)아, 너의 우아함은  \n",
    "개발자들의 마음을 사로잡아  \n",
    "세상을 더 아름답게 만들어주는  \n",
    "그 힘찬 모습에 박수를 보내네  \n",
    "\n",
    "마지막으로, 파이썬은 우아하고 강력한 언어로서 개발자들의 마음을 사로잡고, 세상을 더 아름답게 만들어주는 역할을 합니다. 파이썬의 힘찬 모습에 박수를 보내며, 이 언어의 매력을 표현한 시입니다.\n",
    "\n",
    "---\n",
    "\n",
    "이렇게 입력받은 시에 대한 설명을 해보았습니다. 파이썬에 대한 매력을 잘 표현한 시네요. 추가로 설명이 필요하시면 언제든지 말씀해주세요.\n",
    "```"
   ]
  }
 ],
 "metadata": {
  "kernelspec": {
   "display_name": "langchain",
   "language": "python",
   "name": "python3"
  },
  "language_info": {
   "codemirror_mode": {
    "name": "ipython",
    "version": 3
   },
   "file_extension": ".py",
   "mimetype": "text/x-python",
   "name": "python",
   "nbconvert_exporter": "python",
   "pygments_lexer": "ipython3",
   "version": "3.12.1"
  }
 },
 "nbformat": 4,
 "nbformat_minor": 2
}
