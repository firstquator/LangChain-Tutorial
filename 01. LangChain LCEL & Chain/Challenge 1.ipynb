{
 "cells": [
  {
   "cell_type": "markdown",
   "metadata": {},
   "source": [
    "### 📖 프로그래밍 언어에 대한 시를 쓰는데 특화된 체인과 시를 설명하는 데 특화된 체인을 만드세요.\n",
    "\n",
    "- `LCEL (LangChain Expression Language)` 을 사용해 두 체인을 서로 연결합니다.\n",
    "\n",
    "- 최종 체인은 `프로그래밍 언어의 이름을 받고`, `시와 그 설명으로 응답`해야 합니다.\n",
    "\n",
    "- 모델로는 `'gpt-3.5-turbo'`를 사용하고 프롬프트에는 `ChatPromptTemplate` 을 사용하세요."
   ]
  },
  {
   "cell_type": "code",
   "execution_count": null,
   "metadata": {},
   "outputs": [],
   "source": []
  }
 ],
 "metadata": {
  "language_info": {
   "name": "python"
  }
 },
 "nbformat": 4,
 "nbformat_minor": 2
}
