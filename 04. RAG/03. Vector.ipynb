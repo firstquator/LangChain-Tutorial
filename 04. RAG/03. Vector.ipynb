{
 "cells": [
  {
   "cell_type": "markdown",
   "metadata": {
    "vscode": {
     "languageId": "plaintext"
    }
   },
   "source": [
    "### Vector\n",
    "\n",
    "`embed`: Text에대한 vector representaion을 얻는것, text를 vector로 변환하는것.\n",
    "\n",
    "`vector`: 여기서 말하는 백터는 좁은범위의 벡터로, 숫자를 성분으로 갖는 다차원 순서쌍을 의미함.\n",
    "\n",
    "학창시절에 배운 2차원 3차원 좌표도 일종의 벡터로 생각할 수있음\n",
    "\n",
    "`vector로 만드는이유`:\n",
    "\n",
    "연관도가 높은 단어를 찾을수 있고, 단어끼리의 연산으로 또다른 단어를 얻을수도있음.\n",
    "\n",
    "<br>\n",
    "\n",
    "some stuffs mentioned in video\n",
    "\n",
    "https://turbomaze.github.io/word2vecjson/\n",
    "\n",
    "https://www.youtube.com/watch?v=2eWuYf-aZE4"
   ]
  },
  {
   "cell_type": "code",
   "execution_count": null,
   "metadata": {},
   "outputs": [],
   "source": [
    "from langchain.chat_models import ChatOpenAI\n",
    "from langchain.document_loaders import UnstructuredFileLoader\n",
    "from langchain.text_splitter import CharacterTextSplitter\n",
    "from langchain.embeddings import OpenAIEmbeddings, CacheBackedEmbeddings\n",
    "from langchain.vectorstores import Chroma\n",
    "from langchain.storage import LocalFileStore\n",
    "\n",
    "cache_dir = LocalFileStore('./.cache/')\n",
    "\n",
    "# Token 방식으로 텍스트를 인식\n",
    "splitter = CharacterTextSplitter.from_tiktoken_encoder(\n",
    "    separator=\"\\n\",                 # 특정 기준으로 분할\n",
    "    chunk_size=600,\n",
    "    chunk_overlap=100,\n",
    ")\n",
    "\n",
    "# UnstruturedFileLoader : 많은 파일들을 불러올 수 있음. docx, xlsx, pdf, ppt, txt 등 많은 파일들을 불러올 수 있는 Loader\n",
    "loader= UnstructuredFileLoader(\"\")\n",
    "\n",
    "docs = loader.load_and_split(text_splitter=splitter)                                                                                                                                           \n",
    "\n",
    "\n",
    "embeddings = OpenAIEmbeddings()\n",
    "\n",
    "cacehd_embeddings = CacheBackedEmbeddings.from_bytes_store(\n",
    "    embeddings, cache_dir\n",
    ")\n",
    "\n",
    "# 캐시를 적용하여 임베딩\n",
    "vectorstore = Chroma.from_documents(docs, cacehd_embeddings)\n",
    "\n",
    "# 검색\n",
    "result = vectorstore.similarity_search(\"\")"
   ]
  }
 ],
 "metadata": {
  "kernelspec": {
   "display_name": "langchain",
   "language": "python",
   "name": "python3"
  },
  "language_info": {
   "name": "python",
   "version": "3.12.1"
  }
 },
 "nbformat": 4,
 "nbformat_minor": 2
}
