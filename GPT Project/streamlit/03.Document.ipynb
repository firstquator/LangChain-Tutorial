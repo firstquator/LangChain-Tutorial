{
 "cells": [
  {
   "cell_type": "code",
   "execution_count": null,
   "metadata": {},
   "outputs": [],
   "source": [
    "import time\n",
    "import streamlit as st\n",
    "\n",
    "st.set_page_config(\n",
    "    page_title=\"DocumentGPT\",\n",
    "    page_icon=\"📖\"\n",
    ")\n",
    "\n",
    "st.title(\"Document GPT\")\n",
    "\n",
    "with st.chat_message(\"human\"):\n",
    "    st.write(\"Hello\")\n",
    "\n",
    "with st.chat_message(\"ai\"):\n",
    "    st.write(\"how are you ?\")\n",
    "\n",
    "st.chat_input(\"질문을 입력하세요 : )\")\n",
    "\n",
    "with st.status(\"Embedding File . . .\", expanded=True) as status:\n",
    "    time.sleep(3)\n",
    "    st.write(\"Getting the file\")\n",
    "    time.sleep(3)\n",
    "    st.write(\"Embedding the file\")\n",
    "    time.sleep(3)\n",
    "    st.write(\"Caching the file\")\n",
    "\n",
    "    status.update(label=\"Error\", state=\"error\")"
   ]
  },
  {
   "cell_type": "code",
   "execution_count": null,
   "metadata": {},
   "outputs": [],
   "source": [
    "import time\n",
    "import streamlit as st\n",
    "\n",
    "st.set_page_config(\n",
    "    page_title=\"DocumentGPT\",\n",
    "    page_icon=\"📖\"\n",
    ")\n",
    "\n",
    "st.title(\"Document GPT\")\n",
    "\n",
    "# Session state : Data를 넣을 수 있는 DB, 여러 번 재실행해도 Data 가 보존\n",
    "if \"messages\" not in st.session_state:\n",
    "    st.session_state[\"messages\"] = []\n",
    "\n",
    "def send_message(message, role, save=True):\n",
    "    with st.chat_message(role):\n",
    "        st.write(message)\n",
    "    if save:\n",
    "        st.session_state[\"messages\"].append({\"message\": message, \"role\": role})\n",
    "\n",
    "for message in st.session_state['messages']:\n",
    "    send_message(message['message'], message['role'], save=False)\n",
    "\n",
    "message = st.chat_input(\"질문을 입력하세요 : )\")\n",
    "if message:\n",
    "    send_message(message, \"human\")\n",
    "    time.sleep(1)\n",
    "    send_message(f\"You Said: {message}\", \"ai\")\n",
    "\n",
    "    with st.sidebar:\n",
    "        st.write(st.session_state)"
   ]
  }
 ],
 "metadata": {
  "kernelspec": {
   "display_name": "langchain",
   "language": "python",
   "name": "python3"
  },
  "language_info": {
   "name": "python",
   "version": "3.11.6"
  }
 },
 "nbformat": 4,
 "nbformat_minor": 2
}
