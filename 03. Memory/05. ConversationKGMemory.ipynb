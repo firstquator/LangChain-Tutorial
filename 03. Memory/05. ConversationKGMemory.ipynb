{
 "cells": [
  {
   "cell_type": "markdown",
   "metadata": {},
   "source": [
    "### ConversationKGMemory\n",
    "\n",
    "`Conversation Knowledge Graph Memory(ConversationKGMemory)` \n",
    "\n",
    "대화 중의 Entity의 `Knowledge Graph`를 만듭니다.\n",
    "\n",
    "`가장 중요한 것들만 뽑아내는 요약본` 같은 의미입니다."
   ]
  },
  {
   "cell_type": "code",
   "execution_count": 3,
   "metadata": {},
   "outputs": [
    {
     "data": {
      "text/plain": [
       "{'history': [SystemMessage(content='On Morty: Morty is in Korea.', additional_kwargs={}, response_metadata={})]}"
      ]
     },
     "execution_count": 3,
     "metadata": {},
     "output_type": "execute_result"
    }
   ],
   "source": [
    "from langchain.memory import ConversationKGMemory\n",
    "from langchain.chat_models import ChatOpenAI\n",
    "\n",
    "llm = ChatOpenAI(temperature=0.1)\n",
    "\n",
    "memory = ConversationKGMemory(\n",
    "    llm=llm,\n",
    "    return_messages=True,\n",
    ")\n",
    "\n",
    "def add_message(input, output):\n",
    "    memory.save_context({'input': input}, {'output': output})\n",
    "\n",
    "def get_history(input):\n",
    "    return memory.load_memory_variables({'input': input})\n",
    "\n",
    "add_message(\"안녕, 나는 Morty야. 지금은 한국에 살고 있어!\", \"우와! 정말 멋지다!\")\n",
    "get_history('Morty는 누구인가요 ?')"
   ]
  },
  {
   "cell_type": "code",
   "execution_count": 4,
   "metadata": {},
   "outputs": [
    {
     "data": {
      "text/plain": [
       "{'history': [SystemMessage(content='On Morty: Morty is in Korea. Morty likes 간장게장.', additional_kwargs={}, response_metadata={})]}"
      ]
     },
     "execution_count": 4,
     "metadata": {},
     "output_type": "execute_result"
    }
   ],
   "source": [
    "add_message(\"Morty는 간장게장을 좋아해!\", \"우와! 정말 멋지다!\")\n",
    "get_history('Morty는 무엇을 좋아하나요 ?')"
   ]
  }
 ],
 "metadata": {
  "kernelspec": {
   "display_name": "langchain",
   "language": "python",
   "name": "python3"
  },
  "language_info": {
   "codemirror_mode": {
    "name": "ipython",
    "version": 3
   },
   "file_extension": ".py",
   "mimetype": "text/x-python",
   "name": "python",
   "nbconvert_exporter": "python",
   "pygments_lexer": "ipython3",
   "version": "3.12.1"
  }
 },
 "nbformat": 4,
 "nbformat_minor": 2
}
