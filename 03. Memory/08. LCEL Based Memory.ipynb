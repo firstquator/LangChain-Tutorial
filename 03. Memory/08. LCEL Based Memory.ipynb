{
 "cells": [
  {
   "cell_type": "markdown",
   "metadata": {},
   "source": [
    "LangChain Expression(LCEL) 언어를 이용하여 생성된 체인에 메모리를 추가하는 방법"
   ]
  },
  {
   "cell_type": "code",
   "execution_count": 1,
   "metadata": {},
   "outputs": [],
   "source": [
    "from langchain.memory import ConversationSummaryBufferMemory\n",
    "from langchain.chat_models import ChatOpenAI\n",
    "from langchain.schema.runnable import RunnablePassthrough\n",
    "from langchain.prompts import ChatPromptTemplate, MessagesPlaceholder\n",
    "\n",
    "llm = ChatOpenAI(temperature=0.1)\n",
    "\n",
    "memory = ConversationSummaryBufferMemory(\n",
    "    llm=llm,\n",
    "    max_token_limit=120,\n",
    "    return_messages=True,           # 문자열 기반이 아닌, ChatPromptTemplate 에서 사용할 수 있는 형태로 반환\n",
    ")\n",
    "\n",
    "prompt = ChatPromptTemplate.from_messages([\n",
    "    (\"system\", \"너는 사람과 대화하기 위해 AI의 도움을 받아야 해.\"),\n",
    "    # history : memory_key 의 default 값이 history 입니다.\n",
    "    MessagesPlaceholder(variable_name='history'),\n",
    "    (\"human\", \"{question}\"),\n",
    "])\n",
    "\n",
    "# 파라미터를 꼭 하나 넣어줘야 합니다.\n",
    "def load_memory(_):\n",
    "    # 메모리 로드\n",
    "    return memory.load_memory_variables({})['history']\n",
    "\n",
    "chain = RunnablePassthrough.assign(history=load_memory) | prompt | llm\n",
    "def invoke_chain(question):\n",
    "    result = chain.invoke({'question': question})\n",
    "    memory.save_context(\n",
    "        {'question': question}, \n",
    "        {'output': result.content},\n",
    "    )\n",
    "\n",
    "    print(result)\n"
   ]
  },
  {
   "cell_type": "code",
   "execution_count": 2,
   "metadata": {},
   "outputs": [
    {
     "name": "stdout",
     "output_type": "stream",
     "text": [
      "content='안녕 Morty! 만나서 반가워. 무엇을 도와드릴까요?'\n"
     ]
    }
   ],
   "source": [
    "invoke_chain(\"내 이름은 Morty야!\")"
   ]
  },
  {
   "cell_type": "code",
   "execution_count": 3,
   "metadata": {},
   "outputs": [
    {
     "name": "stdout",
     "output_type": "stream",
     "text": [
      "content='당신의 이름은 Morty입니다.'\n"
     ]
    }
   ],
   "source": [
    "invoke_chain(\"내 이름이 뭐야?\")"
   ]
  }
 ],
 "metadata": {
  "kernelspec": {
   "display_name": "langchain",
   "language": "python",
   "name": "python3"
  },
  "language_info": {
   "codemirror_mode": {
    "name": "ipython",
    "version": 3
   },
   "file_extension": ".py",
   "mimetype": "text/x-python",
   "name": "python",
   "nbconvert_exporter": "python",
   "pygments_lexer": "ipython3",
   "version": "3.11.6"
  }
 },
 "nbformat": 4,
 "nbformat_minor": 2
}
