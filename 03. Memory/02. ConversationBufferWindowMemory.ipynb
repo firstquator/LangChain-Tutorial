{
 "cells": [
  {
   "cell_type": "markdown",
   "metadata": {},
   "source": [
    "### ConversationBufferWindowMemory (대화 버퍼 윈도우 메모리)\n",
    "\n",
    "대화의 특정 부분만을 저장하는 메모리입니다.\n",
    "\n",
    "예를 들어, 최대 5개의 대화를 저장한다고 가정해보겠습니다.\n",
    "\n",
    "이 때, 5개가 넘어 6번째 대화를 저장하려고 할때, 가장 오래된 메모리를 제거하고 저장하는 방식입니다.\n",
    "\n",
    "즉, 대화의 특정 부분, 대화의 최근 부분을 저장하는 특징을 가진 메모리리입니다.\n",
    "\n",
    "저장 범위는 직접 지정할 수 있으며, 메모리를 특정 크기로 유지할 수 있는게 가장 큰 장점입니다.\n",
    "\n",
    "단점이 있다면, 챗봇이 최근 대화에만 집중하는 경향을 가진다는 점 입니다.\n",
    "\n",
    ">시간에 따른 대화의 상호 작용 목록을 유지합니다. 마지막 K개의 상호 작용만 사용합니다. \n",
    ">\n",
    ">이는 버퍼가 너무 커지지 않도록 가장 최근 상호 작용의 슬라이딩 윈도우를 유지하는 데 유용할 수 있습니다.\n",
    "\n"
   ]
  },
  {
   "cell_type": "code",
   "execution_count": 11,
   "metadata": {},
   "outputs": [
    {
     "data": {
      "text/plain": [
       "{'history': [HumanMessage(content='2', additional_kwargs={}, response_metadata={}),\n",
       "  AIMessage(content='2', additional_kwargs={}, response_metadata={}),\n",
       "  HumanMessage(content='3', additional_kwargs={}, response_metadata={}),\n",
       "  AIMessage(content='3', additional_kwargs={}, response_metadata={}),\n",
       "  HumanMessage(content='4', additional_kwargs={}, response_metadata={}),\n",
       "  AIMessage(content='4', additional_kwargs={}, response_metadata={}),\n",
       "  HumanMessage(content='5', additional_kwargs={}, response_metadata={}),\n",
       "  AIMessage(content='5', additional_kwargs={}, response_metadata={}),\n",
       "  HumanMessage(content='6', additional_kwargs={}, response_metadata={}),\n",
       "  AIMessage(content='6', additional_kwargs={}, response_metadata={})]}"
      ]
     },
     "execution_count": 11,
     "metadata": {},
     "output_type": "execute_result"
    }
   ],
   "source": [
    "from langchain.memory import ConversationBufferWindowMemory\n",
    "\n",
    "memory = ConversationBufferWindowMemory(\n",
    "    return_messages=True,\n",
    "    k=5,                      # 대화 버퍼 윈도우의 크기. 즉 몇 개의 메세지를 저장할지.\n",
    ")\n",
    "\n",
    "def add_message(input, output):\n",
    "    memory.save_context({'input': input}, {'output': output})\n",
    "\n",
    "# 대화 6개 저장하기 ( 숫자 자료형 형태는 안됨 )\n",
    "for i in range(1, 7):\n",
    "    add_message(str(i), str(i))\n",
    "\n",
    "# 메모리를 봤을 때, 제일 처음 저장한 1은 사라져 있음.\n",
    "memory.load_memory_variables({})"
   ]
  }
 ],
 "metadata": {
  "kernelspec": {
   "display_name": "langchain",
   "language": "python",
   "name": "python3"
  },
  "language_info": {
   "codemirror_mode": {
    "name": "ipython",
    "version": 3
   },
   "file_extension": ".py",
   "mimetype": "text/x-python",
   "name": "python",
   "nbconvert_exporter": "python",
   "pygments_lexer": "ipython3",
   "version": "3.12.1"
  }
 },
 "nbformat": 4,
 "nbformat_minor": 2
}
