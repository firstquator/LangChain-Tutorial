{
 "cells": [
  {
   "cell_type": "markdown",
   "metadata": {},
   "source": [
    "\n",
    "언어 모델만을 사용하면, 챗봇이 이전 대화 내용을 기억할 수 없습니다.\n",
    "\n",
    "즉, 언어 모델에 응답을 요청하고나면 언어 모델은 모든 대화내용을 까먹게 됩니다.\n",
    "\n",
    "이를 해결하기 위해, `메모리 기능`을 사용해야 합니다.\n",
    "\n",
    "`토큰(Token)`이라는 건 `대화를 분석 하는데 사용되는 작은 단위`입니다.\n",
    "\n",
    "텍스트 대화를 작은 조각으로 나누어 각각의 토큰을 처리함으로써 모델이 텍스트를 이해하고 적절히 응답할 수 있습니다.\n",
    "\n",
    "예를 들어 `\"안녕하세요! 어떻게 지내세요?\"`라는 문장은 다음과 같이 토큰화 될 수 있습니다.\n",
    "\n",
    "- `\"안녕하세요\"`\n",
    "- `\"!\"`\n",
    "- `\"어떻게\"`\n",
    "- `\"지내세요\"`\n",
    "- `\"?\"`\n",
    "\n",
    "토큰화를 통해 모델은 문장을 이해하고 필요한 정보를 추출하여 적절한 응답을 생성할 수 있습니다.\n",
    "\n",
    "---\n",
    "\n",
    "#### ConversationBufferMemory (대화 버퍼 메모리)\n",
    "\n",
    "ConversationBufferMemory는 `이전 대화의 모든 내용을 저장`하는 메모리입니다.\n",
    "\n",
    "모든 내용을 저장하기 때문에, `대화 내용이 길어질수록 메모리도 계속 커지니 비효율적`입니다.\n",
    "\n",
    "이 메모리는 Text Completion 할 때 유용합니다. 즉 무언가를 예측할 때, 또는 텍스트를 자동완성하고 싶을 때가 있습니다."
   ]
  },
  {
   "cell_type": "code",
   "execution_count": null,
   "metadata": {},
   "outputs": [
    {
     "name": "stderr",
     "output_type": "stream",
     "text": [
      "C:\\Users\\tkdgu\\AppData\\Local\\Temp\\ipykernel_15852\\1148685402.py:3: LangChainDeprecationWarning: Please see the migration guide at: https://python.langchain.com/docs/versions/migrating_memory/\n",
      "  memory = ConversationBufferMemory()\n"
     ]
    },
    {
     "data": {
      "text/plain": [
       "{'history': 'Human: Hi\\nAI: How are you?'}"
      ]
     },
     "execution_count": 1,
     "metadata": {},
     "output_type": "execute_result"
    }
   ],
   "source": [
    "from langchain.memory import ConversationBufferMemory\n",
    "\n",
    "memory = ConversationBufferMemory()\n",
    "\n",
    "# 모든 메모리는 save_context, load_memory_variables 메서드를 가진다.\n",
    "memory.save_context({'input': 'Hi'}, {'output': 'How are you?'})\n",
    "memory.load_memory_variables({})"
   ]
  },
  {
   "cell_type": "code",
   "execution_count": null,
   "metadata": {},
   "outputs": [
    {
     "data": {
      "text/plain": [
       "{'history': [HumanMessage(content='Hi', additional_kwargs={}, response_metadata={}),\n",
       "  AIMessage(content='How are you?', additional_kwargs={}, response_metadata={})]}"
      ]
     },
     "execution_count": 2,
     "metadata": {},
     "output_type": "execute_result"
    }
   ],
   "source": [
    "from langchain.memory import ConversationBufferMemory\n",
    "\n",
    "# return_messages 파라미터를 True 로 두면, Human, AI 메세지 형태로 반환됩니다.\n",
    "# 특히, Chat Model 과 작업할 때 사용합니다. 그러면 Chat Model 이 사용할 수 있는 형태로 출력\n",
    "memory = ConversationBufferMemory(return_messages=True)\n",
    "\n",
    "memory.save_context({'input': 'Hi'}, {'output': 'How are you?'})\n",
    "\n",
    "memory.load_memory_variables({})"
   ]
  },
  {
   "cell_type": "code",
   "execution_count": null,
   "metadata": {},
   "outputs": [
    {
     "data": {
      "text/plain": [
       "{'history': 'Human: Hi\\nAI: How are you?\\nHuman: Hi\\nAI: How are you?\\nHuman: Hi\\nAI: How are you?\\nHuman: Hi\\nAI: How are you?\\nHuman: Hi\\nAI: How are you?'}"
      ]
     },
     "execution_count": 4,
     "metadata": {},
     "output_type": "execute_result"
    }
   ],
   "source": [
    "from langchain.memory import ConversationBufferMemory\n",
    "\n",
    "# return_messages 파라미터를 True 로 두면, Human, AI 메세지 형태로 반환됩니다.\n",
    "memory = ConversationBufferMemory()\n",
    "\n",
    "# 메모리가 계속 쌓이는 걸 볼 수 있습니다.\n",
    "for i in range(5):\n",
    "    memory.save_context({'input': 'Hi'}, {'output': 'How are you?'})\n",
    "\n",
    "memory.load_memory_variables({})"
   ]
  }
 ],
 "metadata": {
  "kernelspec": {
   "display_name": "langchain",
   "language": "python",
   "name": "python3"
  },
  "language_info": {
   "codemirror_mode": {
    "name": "ipython",
    "version": 3
   },
   "file_extension": ".py",
   "mimetype": "text/x-python",
   "name": "python",
   "nbconvert_exporter": "python",
   "pygments_lexer": "ipython3",
   "version": "3.12.1"
  }
 },
 "nbformat": 4,
 "nbformat_minor": 2
}
