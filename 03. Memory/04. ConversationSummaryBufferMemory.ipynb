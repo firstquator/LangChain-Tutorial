{
 "cells": [
  {
   "cell_type": "markdown",
   "metadata": {},
   "source": [
    "### ConversationSummaryBufferMemory\n",
    "\n",
    "`ConversationSummaryBufferMemory`는 `두 가지 아이디어`를 결합한 것입니다. \n",
    "\n",
    "즉, `ConversationSummaryMemory` 와 `ConverationBufferWindowMemory` 를 결합한 겁니다.\n",
    "\n",
    "메모리에 최근 상호 작용의 버퍼를 저장하고 있지만 오래된 상호 작용을 완전히 플러싱하는 것이 아니라 \n",
    "\n",
    "요약으로 컴파일하여 두 가지를 모두 사용합니다. 상호 작용을 플러싱할 시점을 결정하기 위해 상호 작용의 수가 아니라 토큰 길이를 사용합니다."
   ]
  },
  {
   "cell_type": "code",
   "execution_count": 3,
   "metadata": {},
   "outputs": [],
   "source": [
    "from langchain.memory import ConversationSummaryBufferMemory\n",
    "from langchain.chat_models import ChatOpenAI\n",
    "\n",
    "llm = ChatOpenAI(temperature=0.1)\n",
    "\n",
    "memory = ConversationSummaryBufferMemory(\n",
    "    llm=llm,\n",
    "    return_messages=True,\n",
    "    max_token_limit=150,         # 가능한 메세지 토큰 수의 최댓값\n",
    ")\n",
    "\n",
    "def add_message(input, output):\n",
    "    memory.save_context({'input': input}, {'output': output})\n",
    "\n",
    "def get_history():\n",
    "    return memory.load_memory_variables({})"
   ]
  },
  {
   "cell_type": "code",
   "execution_count": 4,
   "metadata": {},
   "outputs": [
    {
     "data": {
      "text/plain": [
       "{'history': [HumanMessage(content='안녕, 나는 Morty야. 지금은 한국에 살고 있어!', additional_kwargs={}, response_metadata={}),\n",
       "  AIMessage(content='우와! 정말 멋지다!', additional_kwargs={}, response_metadata={})]}"
      ]
     },
     "execution_count": 4,
     "metadata": {},
     "output_type": "execute_result"
    }
   ],
   "source": [
    "\n",
    "add_message(\"안녕, 나는 Morty야. 지금은 한국에 살고 있어!\", \"우와! 정말 멋지다!\")\n",
    "get_history()"
   ]
  },
  {
   "cell_type": "code",
   "execution_count": 5,
   "metadata": {},
   "outputs": [
    {
     "data": {
      "text/plain": [
       "{'history': [HumanMessage(content='안녕, 나는 Morty야. 지금은 한국에 살고 있어!', additional_kwargs={}, response_metadata={}),\n",
       "  AIMessage(content='우와! 정말 멋지다!', additional_kwargs={}, response_metadata={}),\n",
       "  HumanMessage(content='한국은 정말 아름다워!', additional_kwargs={}, response_metadata={}),\n",
       "  AIMessage(content='나도 가고싶어..!!', additional_kwargs={}, response_metadata={})]}"
      ]
     },
     "execution_count": 5,
     "metadata": {},
     "output_type": "execute_result"
    }
   ],
   "source": [
    "add_message(\"한국은 정말 아름다워!\", \"나도 가고싶어..!!\")\n",
    "get_history()"
   ]
  },
  {
   "cell_type": "code",
   "execution_count": 6,
   "metadata": {},
   "outputs": [
    {
     "data": {
      "text/plain": [
       "{'history': [HumanMessage(content='안녕, 나는 Morty야. 지금은 한국에 살고 있어!', additional_kwargs={}, response_metadata={}),\n",
       "  AIMessage(content='우와! 정말 멋지다!', additional_kwargs={}, response_metadata={}),\n",
       "  HumanMessage(content='한국은 정말 아름다워!', additional_kwargs={}, response_metadata={}),\n",
       "  AIMessage(content='나도 가고싶어..!!', additional_kwargs={}, response_metadata={}),\n",
       "  HumanMessage(content='한국과 미국은 멀어?', additional_kwargs={}, response_metadata={}),\n",
       "  AIMessage(content='내가 그걸 어떻게 알아!! 엄청 멀겠지!!', additional_kwargs={}, response_metadata={})]}"
      ]
     },
     "execution_count": 6,
     "metadata": {},
     "output_type": "execute_result"
    }
   ],
   "source": [
    "add_message(\"한국과 미국은 멀어?\", \"내가 그걸 어떻게 알아!! 엄청 멀겠지!!\")\n",
    "get_history()"
   ]
  },
  {
   "cell_type": "code",
   "execution_count": 7,
   "metadata": {},
   "outputs": [
    {
     "data": {
      "text/plain": [
       "{'history': [SystemMessage(content='The human greets the AI in Korean and introduces themselves as Morty, mentioning that they currently live in Korea.', additional_kwargs={}, response_metadata={}),\n",
       "  AIMessage(content='우와! 정말 멋지다!', additional_kwargs={}, response_metadata={}),\n",
       "  HumanMessage(content='한국은 정말 아름다워!', additional_kwargs={}, response_metadata={}),\n",
       "  AIMessage(content='나도 가고싶어..!!', additional_kwargs={}, response_metadata={}),\n",
       "  HumanMessage(content='한국과 미국은 멀어?', additional_kwargs={}, response_metadata={}),\n",
       "  AIMessage(content='내가 그걸 어떻게 알아!! 엄청 멀겠지!!', additional_kwargs={}, response_metadata={}),\n",
       "  HumanMessage(content='아니야 잘 생각해봐!!', additional_kwargs={}, response_metadata={}),\n",
       "  AIMessage(content='전혀 모른다고!!!!!!!', additional_kwargs={}, response_metadata={})]}"
      ]
     },
     "execution_count": 7,
     "metadata": {},
     "output_type": "execute_result"
    }
   ],
   "source": [
    "# 토근이 초과되어서 SystemMessage 가 생긴 것을 확인할 수 있습니다.\n",
    "add_message(\"아니야 잘 생각해봐!!\", \"전혀 모른다고!!!!!!!\")\n",
    "get_history()"
   ]
  }
 ],
 "metadata": {
  "kernelspec": {
   "display_name": "langchain",
   "language": "python",
   "name": "python3"
  },
  "language_info": {
   "codemirror_mode": {
    "name": "ipython",
    "version": 3
   },
   "file_extension": ".py",
   "mimetype": "text/x-python",
   "name": "python",
   "nbconvert_exporter": "python",
   "pygments_lexer": "ipython3",
   "version": "3.12.1"
  }
 },
 "nbformat": 4,
 "nbformat_minor": 2
}
