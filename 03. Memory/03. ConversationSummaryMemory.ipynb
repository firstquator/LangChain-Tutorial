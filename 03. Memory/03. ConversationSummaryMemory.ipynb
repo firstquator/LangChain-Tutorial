{
 "cells": [
  {
   "cell_type": "markdown",
   "metadata": {},
   "source": [
    "### ConversationSummaryMemory (대화 요약 메모리)\n",
    "\n",
    "ConversationSummaryMemory 는 사용할 때, `LLM 을 넣어줘야 합니다.` (메모리를 사용할 때 비용이 듬.)\n",
    "\n",
    "이 메모리는 `대화를 그대로 저장하는게 아니라, 대화를 자체적으로 요약`해줍니다.\n",
    "\n",
    "따라서, 긴 대화에서 매우 유용하게 사용됩니다. 물론, 이에 따른 `많은 토큰과 저장공간을 차지`하게 됩니다.\n",
    "\n",
    "이 메모리는 `대화가 길어지면 길어지고, 저장되는 대화의 양이 많아질수록 효과적`입니다.\n",
    "\n",
    "이들을 요약하는 것이 토큰의 양도 줄어들면서 훨씬 나은 방법이 되기 때문입니다.\n",
    "\n"
   ]
  },
  {
   "cell_type": "code",
   "execution_count": 1,
   "metadata": {},
   "outputs": [
    {
     "name": "stderr",
     "output_type": "stream",
     "text": [
      "C:\\Users\\tkdgu\\AppData\\Local\\Temp\\ipykernel_6868\\1508776528.py:4: LangChainDeprecationWarning: The class `ChatOpenAI` was deprecated in LangChain 0.0.10 and will be removed in 1.0. An updated version of the class exists in the :class:`~langchain-openai package and should be used instead. To use it run `pip install -U :class:`~langchain-openai` and import as `from :class:`~langchain_openai import ChatOpenAI``.\n",
      "  llm = ChatOpenAI(temperature=0.1)\n",
      "C:\\Users\\tkdgu\\AppData\\Local\\Temp\\ipykernel_6868\\1508776528.py:6: LangChainDeprecationWarning: Please see the migration guide at: https://python.langchain.com/docs/versions/migrating_memory/\n",
      "  memory = ConversationSummaryMemory(llm=llm)\n"
     ]
    },
    {
     "data": {
      "text/plain": [
       "{'history': 'Morty introduces themselves and mentions they are currently living in Korea, expressing their love for the country. The AI responds enthusiastically, expressing a desire to visit Korea as well.'}"
      ]
     },
     "execution_count": 1,
     "metadata": {},
     "output_type": "execute_result"
    }
   ],
   "source": [
    "from langchain.memory import ConversationSummaryMemory\n",
    "from langchain.chat_models import ChatOpenAI\n",
    "\n",
    "llm = ChatOpenAI(temperature=0.1)\n",
    "\n",
    "memory = ConversationSummaryMemory(llm=llm)\n",
    "\n",
    "def add_message(input, output):\n",
    "    memory.save_context({'input': input}, {'output': output})\n",
    "\n",
    "def get_history():\n",
    "    return memory.load_memory_variables({})\n",
    "\n",
    "add_message(\"안녕, 나는 Morty야. 지금은 한국에 살고 있어!\", \"우와! 정말 멋지다!\")\n",
    "add_message(\"한국은 정말 아름다워!\", \"나도 가고싶어..!!\")\n",
    "\n",
    "# 대화 내용을 요약해서 메모리에 저장 -> 그렇게 되면 토큰의 양도 줄고 효과적.\n",
    "get_history()"
   ]
  }
 ],
 "metadata": {
  "kernelspec": {
   "display_name": "langchain",
   "language": "python",
   "name": "python3"
  },
  "language_info": {
   "codemirror_mode": {
    "name": "ipython",
    "version": 3
   },
   "file_extension": ".py",
   "mimetype": "text/x-python",
   "name": "python",
   "nbconvert_exporter": "python",
   "pygments_lexer": "ipython3",
   "version": "3.12.1"
  }
 },
 "nbformat": 4,
 "nbformat_minor": 2
}
