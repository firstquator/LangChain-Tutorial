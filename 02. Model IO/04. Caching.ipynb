{
 "cells": [
  {
   "cell_type": "markdown",
   "metadata": {},
   "source": [
    "#### Caching\n",
    "\n",
    "캐싱을 사용하면 언어 모델의 응답을 저장할 수 있습니다.\n",
    "\n",
    "예를 들어, 채팅 봇이 있고 그 채팅 봇이 항상 똑같은 질문을 받는다면\n",
    "\n",
    "계속 답변을 만들지 않고 이미 답변한 답을 캐싱을 이용하여 저장한 내용을 재사용하는 겁니다.\n",
    "\n",
    "이렇게 하면, 비용을 아낄 수 있습니다."
   ]
  },
  {
   "cell_type": "code",
   "execution_count": null,
   "metadata": {},
   "outputs": [],
   "source": [
    "from langchain.chat_models import ChatOpenAI\n",
    "from langchain.callbacks import StreamingStdOutCallbackHandler\n",
    "from langchain.globals import set_llm_cache, set_debug\n",
    "from langchain.cache import InMemoryCache,SQLiteCache"
   ]
  },
  {
   "cell_type": "code",
   "execution_count": null,
   "metadata": {},
   "outputs": [],
   "source": [
    "# 모든 응답이 메모리에 저장 (하지만 다시 실행하면, 다 사라져서 처음부터 다시 저장해야 합니다.)\n",
    "set_llm_cache(InMemoryCache())\n",
    "\n",
    "# 데이터베이스에서 캐싱 (생성할 데이터베이스 이름을 지어주면 됩니다.)\n",
    "set_llm_cache(SQLiteCache('cache.db'))\n",
    "\n",
    "# \n",
    "set_debug(True)"
   ]
  },
  {
   "cell_type": "code",
   "execution_count": 13,
   "metadata": {},
   "outputs": [],
   "source": [
    "chat = ChatOpenAI(\n",
    "    temperature=0.1,        # 창의성 (0 ~ 2)\n",
    "    model='gpt-3.5-turbo',  # 사용 모델 지정 (Default : gpt-3.5-turbo)\n",
    ")"
   ]
  },
  {
   "cell_type": "markdown",
   "metadata": {},
   "source": [
    "#### 💡 같은 내용의 질문을 여러 번 했을 때, 실행 시간이 엄청 줄어든 모습을 볼 수 있습니다."
   ]
  },
  {
   "cell_type": "code",
   "execution_count": 14,
   "metadata": {},
   "outputs": [
    {
     "name": "stdout",
     "output_type": "stream",
     "text": [
      "\u001b[32;1m\u001b[1;3m[llm/start]\u001b[0m \u001b[1m[llm:ChatOpenAI] Entering LLM run with input:\n",
      "\u001b[0m{\n",
      "  \"prompts\": [\n",
      "    \"Human: 김치찌개를 만드려면 어떻게 해야 돼?\"\n",
      "  ]\n",
      "}\n",
      "\u001b[36;1m\u001b[1;3m[llm/end]\u001b[0m \u001b[1m[llm:ChatOpenAI] [4.30s] Exiting LLM run with output:\n",
      "\u001b[0m{\n",
      "  \"generations\": [\n",
      "    [\n",
      "      {\n",
      "        \"text\": \"김치찌개를 만들기 위해서는 다음과 같은 재료가 필요합니다:\\n\\n- 김치\\n- 돼지고기 혹은 소고기\\n- 두부\\n- 양파\\n- 대파\\n- 고추\\n- 된장\\n- 고춧가루\\n- 다진 마늘\\n- 다진 생강\\n- 참기름\\n- 소금\\n- 물\\n\\n1. 먼저 김치를 씻어서 적당한 크기로 잘라놓습니다.\\n2. 돼지고기나 소고기를 적당한 크기로 잘라서 냄비에 넣고 볶아줍니다.\\n3. 양파와 대파를 채 썰어서 넣고 볶아줍니다.\\n4. 고추, 다진 마늘, 다진 생강을 넣고 볶아줍니다.\\n5. 된장과 고춧가루를 넣고 볶아줍니다.\\n6. 김치를 넣고 볶아줍니다.\\n7. 물을 넣고 끓여줍니다.\\n8. 두부를 넣고 끓여줍니다.\\n9. 참기름과 소금으로 간을 맞춰줍니다.\\n10. 끓인 김치찌개를 그릇에 담아서 고추장이나 김을 곁들여서 내놓으면 완성입니다.\\n\\n맛있는 김치찌개가 완성되었습니다! 매운 음식을 좋아하신다면 고춧가루나 고추를 더 많이 넣어 매콤하게 만들어도 좋습니다.맛있게 드세요!\",\n",
      "        \"generation_info\": {\n",
      "          \"finish_reason\": \"stop\",\n",
      "          \"logprobs\": null\n",
      "        },\n",
      "        \"type\": \"ChatGeneration\",\n",
      "        \"message\": {\n",
      "          \"lc\": 1,\n",
      "          \"type\": \"constructor\",\n",
      "          \"id\": [\n",
      "            \"langchain\",\n",
      "            \"schema\",\n",
      "            \"messages\",\n",
      "            \"AIMessage\"\n",
      "          ],\n",
      "          \"kwargs\": {\n",
      "            \"content\": \"김치찌개를 만들기 위해서는 다음과 같은 재료가 필요합니다:\\n\\n- 김치\\n- 돼지고기 혹은 소고기\\n- 두부\\n- 양파\\n- 대파\\n- 고추\\n- 된장\\n- 고춧가루\\n- 다진 마늘\\n- 다진 생강\\n- 참기름\\n- 소금\\n- 물\\n\\n1. 먼저 김치를 씻어서 적당한 크기로 잘라놓습니다.\\n2. 돼지고기나 소고기를 적당한 크기로 잘라서 냄비에 넣고 볶아줍니다.\\n3. 양파와 대파를 채 썰어서 넣고 볶아줍니다.\\n4. 고추, 다진 마늘, 다진 생강을 넣고 볶아줍니다.\\n5. 된장과 고춧가루를 넣고 볶아줍니다.\\n6. 김치를 넣고 볶아줍니다.\\n7. 물을 넣고 끓여줍니다.\\n8. 두부를 넣고 끓여줍니다.\\n9. 참기름과 소금으로 간을 맞춰줍니다.\\n10. 끓인 김치찌개를 그릇에 담아서 고추장이나 김을 곁들여서 내놓으면 완성입니다.\\n\\n맛있는 김치찌개가 완성되었습니다! 매운 음식을 좋아하신다면 고춧가루나 고추를 더 많이 넣어 매콤하게 만들어도 좋습니다.맛있게 드세요!\",\n",
      "            \"response_metadata\": {\n",
      "              \"token_usage\": {\n",
      "                \"completion_tokens\": 469,\n",
      "                \"prompt_tokens\": 30,\n",
      "                \"total_tokens\": 499,\n",
      "                \"completion_tokens_details\": {\n",
      "                  \"accepted_prediction_tokens\": 0,\n",
      "                  \"audio_tokens\": 0,\n",
      "                  \"reasoning_tokens\": 0,\n",
      "                  \"rejected_prediction_tokens\": 0\n",
      "                },\n",
      "                \"prompt_tokens_details\": {\n",
      "                  \"audio_tokens\": 0,\n",
      "                  \"cached_tokens\": 0\n",
      "                }\n",
      "              },\n",
      "              \"model_name\": \"gpt-3.5-turbo\",\n",
      "              \"system_fingerprint\": null,\n",
      "              \"finish_reason\": \"stop\",\n",
      "              \"logprobs\": null\n",
      "            },\n",
      "            \"type\": \"ai\",\n",
      "            \"id\": \"run-e41c8c90-59e2-40fb-8eae-92e5fb455c37-0\",\n",
      "            \"tool_calls\": [],\n",
      "            \"invalid_tool_calls\": []\n",
      "          }\n",
      "        }\n",
      "      }\n",
      "    ]\n",
      "  ],\n",
      "  \"llm_output\": {\n",
      "    \"token_usage\": {\n",
      "      \"completion_tokens\": 469,\n",
      "      \"prompt_tokens\": 30,\n",
      "      \"total_tokens\": 499,\n",
      "      \"completion_tokens_details\": {\n",
      "        \"accepted_prediction_tokens\": 0,\n",
      "        \"audio_tokens\": 0,\n",
      "        \"reasoning_tokens\": 0,\n",
      "        \"rejected_prediction_tokens\": 0\n",
      "      },\n",
      "      \"prompt_tokens_details\": {\n",
      "        \"audio_tokens\": 0,\n",
      "        \"cached_tokens\": 0\n",
      "      }\n",
      "    },\n",
      "    \"model_name\": \"gpt-3.5-turbo\",\n",
      "    \"system_fingerprint\": null\n",
      "  },\n",
      "  \"run\": null,\n",
      "  \"type\": \"LLMResult\"\n",
      "}\n"
     ]
    },
    {
     "data": {
      "text/plain": [
       "'김치찌개를 만들기 위해서는 다음과 같은 재료가 필요합니다:\\n\\n- 김치\\n- 돼지고기 혹은 소고기\\n- 두부\\n- 양파\\n- 대파\\n- 고추\\n- 된장\\n- 고춧가루\\n- 다진 마늘\\n- 다진 생강\\n- 참기름\\n- 소금\\n- 물\\n\\n1. 먼저 김치를 씻어서 적당한 크기로 잘라놓습니다.\\n2. 돼지고기나 소고기를 적당한 크기로 잘라서 냄비에 넣고 볶아줍니다.\\n3. 양파와 대파를 채 썰어서 넣고 볶아줍니다.\\n4. 고추, 다진 마늘, 다진 생강을 넣고 볶아줍니다.\\n5. 된장과 고춧가루를 넣고 볶아줍니다.\\n6. 김치를 넣고 볶아줍니다.\\n7. 물을 넣고 끓여줍니다.\\n8. 두부를 넣고 끓여줍니다.\\n9. 참기름과 소금으로 간을 맞춰줍니다.\\n10. 끓인 김치찌개를 그릇에 담아서 고추장이나 김을 곁들여서 내놓으면 완성입니다.\\n\\n맛있는 김치찌개가 완성되었습니다! 매운 음식을 좋아하신다면 고춧가루나 고추를 더 많이 넣어 매콤하게 만들어도 좋습니다.맛있게 드세요!'"
      ]
     },
     "execution_count": 14,
     "metadata": {},
     "output_type": "execute_result"
    }
   ],
   "source": [
    "chat.predict(\"김치찌개를 만드려면 어떻게 해야 돼?\")"
   ]
  },
  {
   "cell_type": "code",
   "execution_count": 15,
   "metadata": {},
   "outputs": [
    {
     "name": "stdout",
     "output_type": "stream",
     "text": [
      "\u001b[32;1m\u001b[1;3m[llm/start]\u001b[0m \u001b[1m[llm:ChatOpenAI] Entering LLM run with input:\n",
      "\u001b[0m{\n",
      "  \"prompts\": [\n",
      "    \"Human: 김치찌개를 만드려면 어떻게 해야 돼?\"\n",
      "  ]\n",
      "}\n",
      "\u001b[36;1m\u001b[1;3m[llm/end]\u001b[0m \u001b[1m[llm:ChatOpenAI] [1ms] Exiting LLM run with output:\n",
      "\u001b[0m{\n",
      "  \"generations\": [\n",
      "    [\n",
      "      {\n",
      "        \"text\": \"김치찌개를 만들기 위해서는 다음과 같은 재료가 필요합니다:\\n\\n- 김치\\n- 돼지고기 혹은 소고기\\n- 두부\\n- 양파\\n- 대파\\n- 고추\\n- 된장\\n- 고춧가루\\n- 다진 마늘\\n- 다진 생강\\n- 참기름\\n- 소금\\n- 물\\n\\n1. 먼저 김치를 씻어서 적당한 크기로 잘라놓습니다.\\n2. 돼지고기나 소고기를 적당한 크기로 잘라서 냄비에 넣고 볶아줍니다.\\n3. 양파와 대파를 채 썰어서 넣고 볶아줍니다.\\n4. 고추, 다진 마늘, 다진 생강을 넣고 볶아줍니다.\\n5. 된장과 고춧가루를 넣고 볶아줍니다.\\n6. 김치를 넣고 볶아줍니다.\\n7. 물을 넣고 끓여줍니다.\\n8. 두부를 넣고 끓여줍니다.\\n9. 참기름과 소금으로 간을 맞춰줍니다.\\n10. 끓인 김치찌개를 그릇에 담아서 고추장이나 김을 곁들여서 내놓으면 완성입니다.\\n\\n맛있는 김치찌개가 완성되었습니다! 매운 음식을 좋아하신다면 고춧가루나 고추를 더 많이 넣어 매콤하게 만들어도 좋습니다.맛있게 드세요!\",\n",
      "        \"generation_info\": {\n",
      "          \"finish_reason\": \"stop\",\n",
      "          \"logprobs\": null\n",
      "        },\n",
      "        \"type\": \"ChatGeneration\",\n",
      "        \"message\": {\n",
      "          \"lc\": 1,\n",
      "          \"type\": \"constructor\",\n",
      "          \"id\": [\n",
      "            \"langchain\",\n",
      "            \"schema\",\n",
      "            \"messages\",\n",
      "            \"AIMessage\"\n",
      "          ],\n",
      "          \"kwargs\": {\n",
      "            \"content\": \"김치찌개를 만들기 위해서는 다음과 같은 재료가 필요합니다:\\n\\n- 김치\\n- 돼지고기 혹은 소고기\\n- 두부\\n- 양파\\n- 대파\\n- 고추\\n- 된장\\n- 고춧가루\\n- 다진 마늘\\n- 다진 생강\\n- 참기름\\n- 소금\\n- 물\\n\\n1. 먼저 김치를 씻어서 적당한 크기로 잘라놓습니다.\\n2. 돼지고기나 소고기를 적당한 크기로 잘라서 냄비에 넣고 볶아줍니다.\\n3. 양파와 대파를 채 썰어서 넣고 볶아줍니다.\\n4. 고추, 다진 마늘, 다진 생강을 넣고 볶아줍니다.\\n5. 된장과 고춧가루를 넣고 볶아줍니다.\\n6. 김치를 넣고 볶아줍니다.\\n7. 물을 넣고 끓여줍니다.\\n8. 두부를 넣고 끓여줍니다.\\n9. 참기름과 소금으로 간을 맞춰줍니다.\\n10. 끓인 김치찌개를 그릇에 담아서 고추장이나 김을 곁들여서 내놓으면 완성입니다.\\n\\n맛있는 김치찌개가 완성되었습니다! 매운 음식을 좋아하신다면 고춧가루나 고추를 더 많이 넣어 매콤하게 만들어도 좋습니다.맛있게 드세요!\",\n",
      "            \"response_metadata\": {\n",
      "              \"token_usage\": {\n",
      "                \"completion_tokens\": 469,\n",
      "                \"prompt_tokens\": 30,\n",
      "                \"total_tokens\": 499,\n",
      "                \"completion_tokens_details\": {\n",
      "                  \"accepted_prediction_tokens\": 0,\n",
      "                  \"audio_tokens\": 0,\n",
      "                  \"reasoning_tokens\": 0,\n",
      "                  \"rejected_prediction_tokens\": 0\n",
      "                },\n",
      "                \"prompt_tokens_details\": {\n",
      "                  \"audio_tokens\": 0,\n",
      "                  \"cached_tokens\": 0\n",
      "                }\n",
      "              },\n",
      "              \"model_name\": \"gpt-3.5-turbo\",\n",
      "              \"system_fingerprint\": null,\n",
      "              \"finish_reason\": \"stop\",\n",
      "              \"logprobs\": null\n",
      "            },\n",
      "            \"type\": \"ai\",\n",
      "            \"id\": \"run-e41c8c90-59e2-40fb-8eae-92e5fb455c37-0\",\n",
      "            \"tool_calls\": [],\n",
      "            \"invalid_tool_calls\": []\n",
      "          }\n",
      "        }\n",
      "      }\n",
      "    ]\n",
      "  ],\n",
      "  \"llm_output\": null,\n",
      "  \"run\": null,\n",
      "  \"type\": \"LLMResult\"\n",
      "}\n"
     ]
    },
    {
     "data": {
      "text/plain": [
       "'김치찌개를 만들기 위해서는 다음과 같은 재료가 필요합니다:\\n\\n- 김치\\n- 돼지고기 혹은 소고기\\n- 두부\\n- 양파\\n- 대파\\n- 고추\\n- 된장\\n- 고춧가루\\n- 다진 마늘\\n- 다진 생강\\n- 참기름\\n- 소금\\n- 물\\n\\n1. 먼저 김치를 씻어서 적당한 크기로 잘라놓습니다.\\n2. 돼지고기나 소고기를 적당한 크기로 잘라서 냄비에 넣고 볶아줍니다.\\n3. 양파와 대파를 채 썰어서 넣고 볶아줍니다.\\n4. 고추, 다진 마늘, 다진 생강을 넣고 볶아줍니다.\\n5. 된장과 고춧가루를 넣고 볶아줍니다.\\n6. 김치를 넣고 볶아줍니다.\\n7. 물을 넣고 끓여줍니다.\\n8. 두부를 넣고 끓여줍니다.\\n9. 참기름과 소금으로 간을 맞춰줍니다.\\n10. 끓인 김치찌개를 그릇에 담아서 고추장이나 김을 곁들여서 내놓으면 완성입니다.\\n\\n맛있는 김치찌개가 완성되었습니다! 매운 음식을 좋아하신다면 고춧가루나 고추를 더 많이 넣어 매콤하게 만들어도 좋습니다.맛있게 드세요!'"
      ]
     },
     "execution_count": 15,
     "metadata": {},
     "output_type": "execute_result"
    }
   ],
   "source": [
    "chat.predict(\"김치찌개를 만드려면 어떻게 해야 돼?\")"
   ]
  }
 ],
 "metadata": {
  "kernelspec": {
   "display_name": "langchain",
   "language": "python",
   "name": "python3"
  },
  "language_info": {
   "codemirror_mode": {
    "name": "ipython",
    "version": 3
   },
   "file_extension": ".py",
   "mimetype": "text/x-python",
   "name": "python",
   "nbconvert_exporter": "python",
   "pygments_lexer": "ipython3",
   "version": "3.11.6"
  }
 },
 "nbformat": 4,
 "nbformat_minor": 2
}
