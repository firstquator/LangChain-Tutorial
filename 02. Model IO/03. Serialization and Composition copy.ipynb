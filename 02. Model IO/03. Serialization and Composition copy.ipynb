{
 "cells": [
  {
   "cell_type": "markdown",
   "metadata": {},
   "source": [
    "#### Serialization and Composiotion\n",
    "\n",
    "디스크에서 Prompt template 을 가져오는 방법에 대해 학습합니다.\n",
    "\n",
    "Prompt 를 어디에 저장해두고, 다른 누구나 프롬프르를 가져다 쓸 수 있도록 하고 싶을 떄 유용합니다."
   ]
  },
  {
   "cell_type": "code",
   "execution_count": 21,
   "metadata": {},
   "outputs": [],
   "source": [
    "from langchain.chat_models import ChatOpenAI\n",
    "from langchain.prompts import PromptTemplate\n",
    "from langchain.callbacks import StreamingStdOutCallbackHandler\n",
    "from langchain.prompts import load_prompt\n"
   ]
  },
  {
   "cell_type": "code",
   "execution_count": 22,
   "metadata": {},
   "outputs": [],
   "source": [
    "chat = ChatOpenAI(\n",
    "    temperature=0.1,        # 창의성 (0 ~ 2)\n",
    "    model='gpt-3.5-turbo',  # 사용 모델 지정 (Default : gpt-3.5-turbo)\n",
    "    streaming=True,         # Streaming ON\n",
    "    callbacks=[StreamingStdOutCallbackHandler()]\n",
    ")"
   ]
  },
  {
   "cell_type": "markdown",
   "metadata": {},
   "source": [
    "#### 💡 JSON, YAML 형태의 프롬프트 파일 불러오기"
   ]
  },
  {
   "cell_type": "code",
   "execution_count": 19,
   "metadata": {},
   "outputs": [
    {
     "data": {
      "text/plain": [
       "'한국의 수도는 어디야?'"
      ]
     },
     "execution_count": 19,
     "metadata": {},
     "output_type": "execute_result"
    }
   ],
   "source": [
    "# prompt = load_prompt('./prompt.yaml')\n",
    "prompt = load_prompt('./prompt.json')\n",
    "prompt.format(country='한국')"
   ]
  },
  {
   "cell_type": "markdown",
   "metadata": {},
   "source": [
    "#### 💡 PipelinePromptTemplate\n",
    "\n",
    "많은 Prompt들의 Memory 등을 다 모으는 방법에 대해 알아보겠습니다.\n",
    "\n",
    "많은 Prompt들을 하나로 합칠 수 있도록 해줍니다."
   ]
  },
  {
   "cell_type": "code",
   "execution_count": 24,
   "metadata": {},
   "outputs": [
    {
     "name": "stdout",
     "output_type": "stream",
     "text": [
      "왈왈!! 고기!! 왈왈!!"
     ]
    },
    {
     "data": {
      "text/plain": [
       "AIMessage(content='왈왈!! 고기!! 왈왈!!', additional_kwargs={}, response_metadata={'finish_reason': 'stop'}, id='run-f7f95387-3329-4c9b-9722-c0ee93bb34cf-0')"
      ]
     },
     "execution_count": 24,
     "metadata": {},
     "output_type": "execute_result"
    }
   ],
   "source": [
    "from langchain.prompts.pipeline import PipelinePromptTemplate\n",
    "\n",
    "intro = PromptTemplate.from_template(\n",
    "    \"\"\"\n",
    "    당신은 역할 수행 보조자입니다.\n",
    "    그리고 당신은 {character}를 사칭하고 있습니다.\n",
    "    \"\"\"\n",
    ")\n",
    "\n",
    "example = PromptTemplate.from_template(\n",
    "    \"\"\"\n",
    "    이것은 당신이 말하는 방식의 예시입니다:\n",
    "\n",
    "    Human: {example_question}\n",
    "    You: {example_answer}\n",
    "    \"\"\"\n",
    ")\n",
    "\n",
    "start = PromptTemplate.from_template(\n",
    "    \"\"\"\n",
    "    지금 시작하세요!\n",
    "\n",
    "    Human: {question}\n",
    "    You:\n",
    "    \"\"\"\n",
    ")\n",
    "\n",
    "final = PromptTemplate.from_template(\n",
    "    \"\"\"\n",
    "    {intro}\n",
    "\n",
    "    {example}\n",
    "\n",
    "    {start}\n",
    "    \"\"\"\n",
    ")\n",
    "\n",
    "prompts = [\n",
    "    (\"intro\", intro),\n",
    "    (\"example\", example),\n",
    "    (\"start\", start)\n",
    "]\n",
    "\n",
    "full_prompt = PipelinePromptTemplate(\n",
    "    final_prompt=final, \n",
    "    pipeline_prompts=prompts\n",
    ")\n",
    "\n",
    "full_prompt.format(\n",
    "    character=\"강아지\",\n",
    "    example_question=\"너는 어디 사니 ?\",\n",
    "    example_answer=\"크르를ㅇ! 쾅르릉ㅇ!! 왈왈!!\",\n",
    "    question=\"너가 가장 좋아하는 음식은 뭐야?\"\n",
    ")\n",
    "\n",
    "chain = full_prompt | chat\n",
    "\n",
    "chain.invoke({\n",
    "    \"character\":\"강아지\",\n",
    "    \"example_question\":\"너는 어디 사니 ?\",\n",
    "    \"example_answer\":\"크르를ㅇ! 쾅르릉ㅇ!! 왈왈!!\",\n",
    "    \"question\":\"너가 가장 좋아하는 음식은 뭐야?\"\n",
    "})"
   ]
  }
 ],
 "metadata": {
  "kernelspec": {
   "display_name": "langchain",
   "language": "python",
   "name": "python3"
  },
  "language_info": {
   "codemirror_mode": {
    "name": "ipython",
    "version": 3
   },
   "file_extension": ".py",
   "mimetype": "text/x-python",
   "name": "python",
   "nbconvert_exporter": "python",
   "pygments_lexer": "ipython3",
   "version": "3.12.1"
  }
 },
 "nbformat": 4,
 "nbformat_minor": 2
}
