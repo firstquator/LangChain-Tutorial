{
 "cells": [
  {
   "cell_type": "markdown",
   "metadata": {},
   "source": [
    "### 🔍 FewShotPromptTemplate\n",
    "\n",
    "`FewShot` 이란 ? 모델에게 예제들을 준다는 뜻. \n",
    "\n",
    "즉 `어떻게 대답해야 하는지에 대한 예지를 제공`해주는 것이 단순히 Prompt를 전달하는 것보다 더 나은 방법입니다.\n"
   ]
  },
  {
   "cell_type": "code",
   "execution_count": 9,
   "metadata": {},
   "outputs": [],
   "source": [
    "from langchain.chat_models import ChatOpenAI\n",
    "from langchain.prompts import PromptTemplate\n",
    "# FewShotPromptTemplate 가져오기\n",
    "from langchain.prompts.few_shot import FewShotPromptTemplate\n",
    "from langchain.callbacks import StreamingStdOutCallbackHandler"
   ]
  },
  {
   "cell_type": "code",
   "execution_count": 10,
   "metadata": {},
   "outputs": [],
   "source": [
    "chat = ChatOpenAI(\n",
    "    temperature=0.1,        # 창의성 (0 ~ 2)\n",
    "    model='gpt-3.5-turbo',  # 사용 모델 지정 (Default : gpt-3.5-turbo)\n",
    "    streaming=True,         # Streaming ON\n",
    "    callbacks=[StreamingStdOutCallbackHandler()]\n",
    ")"
   ]
  },
  {
   "cell_type": "markdown",
   "metadata": {},
   "source": [
    "#### 💡 FewShotPromptTemplate 없이 그냥 물어봤을 때, 응답 확인하기"
   ]
  },
  {
   "cell_type": "code",
   "execution_count": null,
   "metadata": {},
   "outputs": [],
   "source": [
    "chat.predict(\"프랑스에 대해 무엇을 알고 있어?\")"
   ]
  },
  {
   "cell_type": "markdown",
   "metadata": {},
   "source": [
    "#### 💡 FewShotPromptTemplate 을 사용하여 응답 확인하기"
   ]
  },
  {
   "cell_type": "code",
   "execution_count": 14,
   "metadata": {},
   "outputs": [
    {
     "name": "stdout",
     "output_type": "stream",
     "text": [
      "AI:\n",
      "저는 한국에 대해 다음과 같은 정보를 알고 있습니다:\n",
      "- 수도: 서울\n",
      "- 언어: 한국어\n",
      "- 음식: 김치, 불고기, 비빔밥\n",
      "- 통화: 대한민국 원"
     ]
    },
    {
     "data": {
      "text/plain": [
       "AIMessage(content='AI:\\n저는 한국에 대해 다음과 같은 정보를 알고 있습니다:\\n- 수도: 서울\\n- 언어: 한국어\\n- 음식: 김치, 불고기, 비빔밥\\n- 통화: 대한민국 원', additional_kwargs={}, response_metadata={'finish_reason': 'stop'}, id='run-602c6f6e-4828-41ea-82a9-5d4ec8e0e7a3-0')"
      ]
     },
     "execution_count": 14,
     "metadata": {},
     "output_type": "execute_result"
    }
   ],
   "source": [
    "# FewShot 예제\n",
    "examples = [\n",
    "{\n",
    "    \"question\": \"프랑스에 대해 무엇을 알고 있어?\",\n",
    "    \"answer\": \"\"\"\n",
    "    제가 아는 것은 다음과 같습니다:\n",
    "    - 수도: 파리\n",
    "    - 언어: 프랑스어\n",
    "    - 음식: 와인과 치즈\n",
    "    - 통화: 유로\n",
    "\"\"\",\n",
    "},\n",
    "{\n",
    "    \"question\": \"이탈리아에 대해 무엇을 알고 있어?\",\n",
    "    \"answer\": \"\"\"\n",
    "    저는 이것을 알고 있습니다:\n",
    "    - 수도: 로마\n",
    "    - 언어: 이탈리아어\n",
    "    - 음식: 피자와 파스타\n",
    "    - 통화: 유로\n",
    "    \"\"\",\n",
    "},\n",
    "{\n",
    "    \"question\": \"그리스에 대해 무엇을 알고 있어?\",\n",
    "    \"answer\": \"\"\"\n",
    "    저는 이것을 알고 있습니다:\n",
    "    - 수도: 아테네\n",
    "    - 언어: 그리스어\n",
    "    - 음식: 수블라키와 페타 치즈\n",
    "    - 통화: 유로\n",
    "    \"\"\",\n",
    "    },\n",
    "]\n",
    "\n",
    "# 1. 예제의 형식을 지정\n",
    "example_template = \"\"\"\n",
    "    Human: {question}\n",
    "    AI : {answer}\n",
    "\"\"\"\n",
    "\n",
    "example_prompt = PromptTemplate.from_template(example_template)\n",
    "\n",
    "prompt = FewShotPromptTemplate(\n",
    "    example_prompt=example_prompt,\n",
    "    examples=examples,\n",
    "    suffix=\"Human: {country}에 대해 무엇을 알고 있어?\"  ,                      # 형식화된 모든 예제 마지막에 나는 내용\n",
    "    input_variables=['country']                                             # 유효성 검사\n",
    ")\n",
    "\n",
    "chain = prompt | chat\n",
    "\n",
    "chain.invoke({\n",
    "    'country': 'Korea'\n",
    "})"
   ]
  }
 ],
 "metadata": {
  "kernelspec": {
   "display_name": "langchain",
   "language": "python",
   "name": "python3"
  },
  "language_info": {
   "codemirror_mode": {
    "name": "ipython",
    "version": 3
   },
   "file_extension": ".py",
   "mimetype": "text/x-python",
   "name": "python",
   "nbconvert_exporter": "python",
   "pygments_lexer": "ipython3",
   "version": "3.12.1"
  }
 },
 "nbformat": 4,
 "nbformat_minor": 2
}
