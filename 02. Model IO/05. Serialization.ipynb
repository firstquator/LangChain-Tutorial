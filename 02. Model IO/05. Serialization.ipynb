{
 "cells": [
  {
   "cell_type": "markdown",
   "metadata": {},
   "source": [
    "- OpenAI 모델을 사용할 때, 우리가 지출하는 비용을 아는 방법\n",
    "\n",
    "- 모델을 어떻게 저장하고 불러오는지 배웁니다."
   ]
  },
  {
   "cell_type": "code",
   "execution_count": 2,
   "metadata": {},
   "outputs": [],
   "source": [
    "from langchain.chat_models import ChatOpenAI\n",
    "from langchain.callbacks import get_openai_callback"
   ]
  },
  {
   "cell_type": "code",
   "execution_count": 3,
   "metadata": {},
   "outputs": [
    {
     "name": "stderr",
     "output_type": "stream",
     "text": [
      "C:\\Users\\SangHyeonLee\\AppData\\Local\\Temp\\ipykernel_17488\\1967039623.py:1: LangChainDeprecationWarning: The class `ChatOpenAI` was deprecated in LangChain 0.0.10 and will be removed in 1.0. An updated version of the class exists in the :class:`~langchain-openai package and should be used instead. To use it run `pip install -U :class:`~langchain-openai` and import as `from :class:`~langchain_openai import ChatOpenAI``.\n",
      "  chat = ChatOpenAI(\n"
     ]
    }
   ],
   "source": [
    "chat = ChatOpenAI(\n",
    "    temperature=0.1,        # 창의성 (0 ~ 2)\n",
    "    model='gpt-3.5-turbo',  # 사용 모델 지정 (Default : gpt-3.5-turbo)\n",
    ")"
   ]
  },
  {
   "cell_type": "markdown",
   "metadata": {},
   "source": [
    "#### 💡 토큰 사용 비용 확인하기"
   ]
  },
  {
   "cell_type": "code",
   "execution_count": null,
   "metadata": {},
   "outputs": [
    {
     "name": "stdout",
     "output_type": "stream",
     "text": [
      "소주 레시피 중 하나는 \"막걸리 소주\"입니다. 이 레시피는 간단하고 맛있는 소주 칵테일입니다.\n",
      "\n",
      "재료:\n",
      "- 소주 60ml\n",
      "- 막걸리 60ml\n",
      "- 레몬 슬라이스\n",
      "- 얼음\n",
      "\n",
      "만드는 방법:\n",
      "1. 레몬 슬라이스를 잔에 넣고 얼음을 채운다.\n",
      "2. 소주와 막걸리를 잔에 부어 섞어준다.\n",
      "3. 잘 섞인 후 레몬 슬라이스로 장식하여 마시면 끝!\n",
      "\n",
      "이렇게 간단하게 막걸리 소주를 만들어 즐기세요. 다양한 소주 레시피를 시도해보며 새로운 맛을 발견해보세요. 빵을 만드는 방법은 여러 가지가 있지만, 가장 기본적인 빵 레시피를 알려드리겠습니다.\n",
      "\n",
      "재료:\n",
      "- 밀가루 500g\n",
      "- 물 300ml\n",
      "- 이스트 7g\n",
      "- 소금 10g\n",
      "- 설탕 10g\n",
      "- 식용유 30ml\n",
      "\n",
      "1. 물을 따뜻하게 데워준 뒤 이스트와 설탕을 넣고 잘 섞어주세요. 약 5분 정도 기다려 이스트가 활성화되도록 해줍니다.\n",
      "\n",
      "2. 밀가루와 소금을 섞은 뒤 중앙에 돌덩이 모양을 만들어주세요. 그리고 이스트 물을 넣고 젓가락으로 섞어주세요.\n",
      "\n",
      "3. 반죽이 모두 섞이면 손으로 반죽을 해주세요. 부드럽고 탄력있는 반죽이 완성될 때까지 계속 반죽해주세요.\n",
      "\n",
      "4. 반죽을 도마 위에 올려 손으로 눌러주세요. 10분 정도 쉬어주고 다시 반죽을 해주세요.\n",
      "\n",
      "5. 도마에 식용유를 발라주세요. 반죽을 넣고 둥글게 만들어주세요. 덮개를 씌워 따뜻한 곳에서 1시간 정도 발효시켜주세요.\n",
      "\n",
      "6. 발효가 완료되면 반죽을 다시 반죽해주세요. 모양을 만들어 베이킹 팬에 넣고 덮개를 씌워 30분 정도 더 발효시켜주세요.\n",
      "\n",
      "7. 오븐을 180도로 예열한 뒤 빵을 넣고 30분 정도 구워주세요. 빵이 익으면 오븐에서 꺼내 식힌 뒤 즐겨주세요.\n",
      "\n",
      "이렇게 하면 기본적인 빵을 만들 수 있습니다. 다양한 재료를 추가하여 다양한 맛의 빵을 만들어보세요! \n",
      "\n",
      "Tokens Used: 885\n",
      "\tPrompt Tokens: 47\n",
      "\tCompletion Tokens: 838\n",
      "Successful Requests: 2\n",
      "Total Cost (USD): $0.0017464999999999998\n"
     ]
    }
   ],
   "source": [
    "with get_openai_callback() as usage:\n",
    "    a = chat.predict(\"소주 레시피를 알려줘\")\n",
    "    b = chat.predict(\"빵 레시피를 알려줘\")\n",
    "    print(a, b, \"\\n\")\n",
    "    print(usage)\n",
    "    # print(usage.total_tokens)             # 총 사용한 토큰\n",
    "    # print(usage.total_cost)               # 비용만\n",
    "    # print(usage.completion_token)         # 모델이 사용한 토큰"
   ]
  },
  {
   "cell_type": "code",
   "execution_count": null,
   "metadata": {},
   "outputs": [
    {
     "name": "stderr",
     "output_type": "stream",
     "text": [
      "C:\\Users\\SangHyeonLee\\AppData\\Local\\Temp\\ipykernel_17488\\3541448003.py:3: LangChainDeprecationWarning: The class `OpenAI` was deprecated in LangChain 0.0.10 and will be removed in 1.0. An updated version of the class exists in the :class:`~langchain-openai package and should be used instead. To use it run `pip install -U :class:`~langchain-openai` and import as `from :class:`~langchain_openai import OpenAI``.\n",
      "  chat = OpenAI(\n"
     ]
    }
   ],
   "source": [
    "from langchain.llms.openai import OpenAI\n",
    "from langchain.llms.loading import load_llm\n",
    "\n",
    "chat = OpenAI(\n",
    "    temperature=0.1,        # 창의성 (0 ~ 2)\n",
    "    model='gpt-3.5-turbo-16k',  # 사용 모델 지정 (Default : gpt-3.5-turbo)\n",
    "    max_tokens=450\n",
    ")\n",
    "\n",
    "# 모델 저장하기\n",
    "chat.save('model.json')\n",
    "\n",
    "# 모델 불러오기\n",
    "load_chat = load_llm('model.json')"
   ]
  }
 ],
 "metadata": {
  "kernelspec": {
   "display_name": "langchain",
   "language": "python",
   "name": "python3"
  },
  "language_info": {
   "codemirror_mode": {
    "name": "ipython",
    "version": 3
   },
   "file_extension": ".py",
   "mimetype": "text/x-python",
   "name": "python",
   "nbconvert_exporter": "python",
   "pygments_lexer": "ipython3",
   "version": "3.11.6"
  }
 },
 "nbformat": 4,
 "nbformat_minor": 2
}
