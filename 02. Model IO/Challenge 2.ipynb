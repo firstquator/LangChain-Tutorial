{
 "cells": [
  {
   "cell_type": "markdown",
   "metadata": {},
   "source": [
    "### 📖 영화 이름을 가지고 감독, 주요 출연진, 예산, 흥행 수익, 영화의 장르, 간단한 시놉시스 등 영화에 대한 정보로 답장하는 체인을 만드세요.\n",
    "\n",
    "- LLM은 항상 동일한 형식을 사용하여 응답해야 하며, 이를 위해서는 원하는 출력의 예시를 LLM에 제공해야 합니다.\n",
    "\n",
    "- 예제를 제공하려면 FewShotPromptTemplate 또는 FewShotChatMessagePromptTemplate을 사용하세요."
   ]
  },
  {
   "cell_type": "markdown",
   "metadata": {},
   "source": [
    "#### 💻 각 셀마다 결과 확인하기"
   ]
  },
  {
   "cell_type": "code",
   "execution_count": 3,
   "metadata": {},
   "outputs": [],
   "source": [
    "# True  → 각 셀마다 결과 실행 O\n",
    "# False → 각 셀마다 결과 실행 X\n",
    "DEBUG = False"
   ]
  },
  {
   "cell_type": "markdown",
   "metadata": {},
   "source": [
    "#### 💡 사용할 라이브러리 및 모듈 import 하기"
   ]
  },
  {
   "cell_type": "code",
   "execution_count": 4,
   "metadata": {},
   "outputs": [],
   "source": [
    "from langchain.chat_models import ChatOpenAI\n",
    "from langchain.prompts import PromptTemplate\n",
    "from langchain.prompts.few_shot import FewShotPromptTemplate\n",
    "from langchain.callbacks import StreamingStdOutCallbackHandler"
   ]
  },
  {
   "cell_type": "markdown",
   "metadata": {},
   "source": [
    "#### 💡 모델(Model) 생성하기"
   ]
  },
  {
   "cell_type": "code",
   "execution_count": 5,
   "metadata": {},
   "outputs": [
    {
     "name": "stderr",
     "output_type": "stream",
     "text": [
      "C:\\Users\\SangHyeonLee\\AppData\\Local\\Temp\\ipykernel_37404\\579124313.py:1: LangChainDeprecationWarning: The class `ChatOpenAI` was deprecated in LangChain 0.0.10 and will be removed in 1.0. An updated version of the class exists in the :class:`~langchain-openai package and should be used instead. To use it run `pip install -U :class:`~langchain-openai` and import as `from :class:`~langchain_openai import ChatOpenAI``.\n",
      "  chat = ChatOpenAI(\n"
     ]
    }
   ],
   "source": [
    "chat = ChatOpenAI(\n",
    "    temperature=0.1,        # 창의성 (0 ~ 2)\n",
    "    model='gpt-3.5-turbo',  # 사용 모델 지정 (Default : gpt-3.5-turbo)\n",
    "    streaming=True,         # Streaming ON\n",
    "    callbacks=[StreamingStdOutCallbackHandler()]\n",
    ")"
   ]
  },
  {
   "cell_type": "markdown",
   "metadata": {},
   "source": [
    "#### 💡 영화에 대한 정보로 답장하는 체인 생성 및 실행"
   ]
  },
  {
   "cell_type": "markdown",
   "metadata": {},
   "source": [
    "#### 💻 각 셀마다 결과 확인하기"
   ]
  },
  {
   "cell_type": "code",
   "execution_count": null,
   "metadata": {},
   "outputs": [],
   "source": [
    "# True  → 각 셀마다 결과 실행 O\n",
    "# False → 각 셀마다 결과 실행 X\n",
    "DEBUG = False"
   ]
  },
  {
   "cell_type": "markdown",
   "metadata": {},
   "source": [
    "#### 💡 사용할 라이브러리 및 모듈 import 하기"
   ]
  },
  {
   "cell_type": "code",
   "execution_count": null,
   "metadata": {},
   "outputs": [],
   "source": [
    "from langchain.chat_models import ChatOpenAI\n",
    "from langchain.prompts import ChatPromptTemplate\n",
    "from langchain.callbacks import StreamingStdOutCallbackHandler"
   ]
  },
  {
   "cell_type": "markdown",
   "metadata": {},
   "source": [
    "#### 💡 모델(Model) 생성하기"
   ]
  },
  {
   "cell_type": "code",
   "execution_count": null,
   "metadata": {},
   "outputs": [],
   "source": [
    "chat = ChatOpenAI(\n",
    "    temperature=0.1,        # 창의성 (0 ~ 2)\n",
    "    model='gpt-3.5-turbo',  # 사용 모델 지정 (Default : gpt-3.5-turbo)\n",
    "    streaming=True,         # Streaming ON\n",
    "    callbacks=[StreamingStdOutCallbackHandler()]\n",
    ")"
   ]
  },
  {
   "cell_type": "code",
   "execution_count": 7,
   "metadata": {},
   "outputs": [
    {
     "name": "stdout",
     "output_type": "stream",
     "text": [
      "AI: \n",
      "제가 아는 것은 다음과 같습니다:\n",
      "- 감독: 류승완\n",
      "- 주요 출연진: 황정민, 유아인, 유해진\n",
      "- 예산: 약 100억\n",
      "- 흥행 수익: 105억\n",
      "- 영화의 장르: 액션, 범죄, 코미디\n",
      "- 간단한 시놉시스: 전직 특수부대원인 승호(황정민)는 조직의 불법 행위로 가족을 잃게 된다. 그 후 베테랑 경찰 춘식(유해진)과 함께 범죄 조직을 쓰러뜨리기 위해 힘을 합친다. 범죄 조직의 무자비한 보스인 조던(유아인)과의 대결이 펼쳐지면서 전투가 치열해진다. 승호와 춘식은 범죄와의 전쟁에서 승리하기 위해 최후의 결전을 준비한다."
     ]
    },
    {
     "data": {
      "text/plain": [
       "AIMessage(content='AI: \\n제가 아는 것은 다음과 같습니다:\\n- 감독: 류승완\\n- 주요 출연진: 황정민, 유아인, 유해진\\n- 예산: 약 100억\\n- 흥행 수익: 105억\\n- 영화의 장르: 액션, 범죄, 코미디\\n- 간단한 시놉시스: 전직 특수부대원인 승호(황정민)는 조직의 불법 행위로 가족을 잃게 된다. 그 후 베테랑 경찰 춘식(유해진)과 함께 범죄 조직을 쓰러뜨리기 위해 힘을 합친다. 범죄 조직의 무자비한 보스인 조던(유아인)과의 대결이 펼쳐지면서 전투가 치열해진다. 승호와 춘식은 범죄와의 전쟁에서 승리하기 위해 최후의 결전을 준비한다.', additional_kwargs={}, response_metadata={'finish_reason': 'stop'}, id='run-4743d193-1d07-46be-88be-0352e21c8b23-0')"
      ]
     },
     "execution_count": 7,
     "metadata": {},
     "output_type": "execute_result"
    }
   ],
   "source": [
    "# FewShot 예제\n",
    "examples = [\n",
    "{\n",
    "    \"question\": \"명량에 대해 무엇을 알고 있어?\",\n",
    "    \"answer\": \"\"\"\n",
    "    제가 아는 것은 다음과 같습니다:\n",
    "    - 감독: 김한민\n",
    "    - 주요 출연진: 최민식, 류승룡, 조진웅\n",
    "    - 예산: 30억\n",
    "    - 흥행 수익: 148억원\n",
    "    - 영화의 장르: 액션, 드라마, 사극, 전쟁, 스릴러\n",
    "    - 간단한 시놉시스 : 1597년 임진왜란[4] 6년,\n",
    "    오랜 전쟁으로 인해 혼란이 극에 달한 조선.\n",
    "    무서운 속도로 한양으로 북상하는 왜군에 의해 국가존망의 위기에 처하자\n",
    "    누명을 쓰고 파면 당했던 이순신 장군(최민식)이 삼도수군통제사로 재임명된다.\n",
    "\n",
    "    하지만 그에게 남은 건 전의를 상실한 병사와 두려움에 가득 찬 백성,\n",
    "    그리고 12척의 배 뿐.\n",
    "    마지막 희망이었던 거북선마저 불타고\n",
    "    잔혹한 성격과 뛰어난 지략을 지닌 용병 구루지마(류승룡)가 왜군 수장으로 나서자\n",
    "    조선은 더욱 술렁인다.\n",
    "\n",
    "    330척에 달하는 왜군의 배가 속속 집결하고\n",
    "    압도적인 수의 열세에 모두가 패배를 직감하는 순간,\n",
    "    이순신 장군은 단 12척의 배를 이끌고 명량 바다를 향해 나서는데…!\n",
    "    \"\"\",\n",
    "},\n",
    "{\n",
    "    \"question\": \"광해, 왕이 된 남자에 대해 무엇을 알고 있어?\",\n",
    "    \"answer\": \"\"\"\n",
    "    제가 아는 것은 다음과 같습니다:\n",
    "    - 감독: 추창민\n",
    "    - 주요 출연진: 이병헌, 한효주, 김인권\n",
    "    - 예산: 285억\n",
    "    - 흥행 수익: 889억\n",
    "    - 영화의 장르: 왕위를 둘러싼 권력 다툼과 당쟁으로 혼란이 극에 달한 광해군 8년. \n",
    "    자신의 목숨을 노리는 자들에 대한 분노와 두려움으로 점점 난폭해져 가던 왕 ‘광해’는 도승지 ‘허균’에게 자신을 대신하여 위협에 노출될 대역을 찾을 것을 지시한다. \n",
    "    이에 허균은 기방의 취객들 사이에 걸쭉한 만담으로 인기를 끌던 하선을 발견한다. 왕과 똑같은 외모는 물론 타고난 재주와 말솜씨로 왕의 흉내도 완벽하게 내는 하선. \n",
    "    영문도 모른 채 궁에 끌려간 하선은 광해군이 자리를 비운 하룻밤 가슴 조이며 왕의 대역을 하게 된다. 왕이 되어선 안 되는 남자, 조선의 왕이 되다!\n",
    "    그러던 어느 날 광해군이 갑자기 의식을 잃고 쓰러지는 엄청난 사건이 발생하고, 허균은 광해군이 치료를 받는 동안 하선에게 광해군을 대신하여 왕의 대역을 할 것을 명한다. \n",
    "    저잣거리의 한낱 만담꾼에서 하루아침에 조선의 왕이 되어버린 천민 하선. \n",
    "    허균의 지시 하에 말투부터 걸음걸이, 국정을 다스리는 법까지, 함부로 입을 놀려서도 들켜서도 안 되는 위험천만한 왕노릇을 시작한다. \n",
    "    하지만 예민하고 난폭했던 광해와는 달리 따뜻함과 인간미가 느껴지는 달라진 왕의 모습에 궁정이 조금씩 술렁이고, \n",
    "    점점 왕의 대역이 아닌 자신의 목소리를 내기 시작하는 하선의 모습에 허균도 당황하기 시작하는데...\n",
    "    \"\"\",\n",
    "},\n",
    "]\n",
    "\n",
    "# 1. 예제의 형식을 지정\n",
    "example_template = \"\"\"\n",
    "    Human: {question}\n",
    "    AI : {answer}\n",
    "\"\"\"\n",
    "\n",
    "example_prompt = PromptTemplate.from_template(example_template)\n",
    "\n",
    "prompt = FewShotPromptTemplate(\n",
    "    example_prompt=example_prompt,\n",
    "    examples=examples,\n",
    "    suffix=\"Human: {movie}에 대해 무엇을 알고 있어?\"  ,                      # 형식화된 모든 예제 마지막에 나는 내용\n",
    "    input_variables=['movie']                                             # 유효성 검사\n",
    ")\n",
    "\n",
    "chain = prompt | chat\n",
    "\n",
    "chain.invoke({\n",
    "    'movie': '베테랑'\n",
    "})"
   ]
  }
 ],
 "metadata": {
  "kernelspec": {
   "display_name": "langchain",
   "language": "python",
   "name": "python3"
  },
  "language_info": {
   "codemirror_mode": {
    "name": "ipython",
    "version": 3
   },
   "file_extension": ".py",
   "mimetype": "text/x-python",
   "name": "python",
   "nbconvert_exporter": "python",
   "pygments_lexer": "ipython3",
   "version": "3.12.1"
  }
 },
 "nbformat": 4,
 "nbformat_minor": 2
}
