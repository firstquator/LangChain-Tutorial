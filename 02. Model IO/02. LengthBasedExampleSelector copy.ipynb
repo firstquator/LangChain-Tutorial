{
 "cells": [
  {
   "cell_type": "markdown",
   "metadata": {},
   "source": [
    "#### LengthBasedExampleSelector\n",
    "\n",
    "Dynamic 하게 예제를 고르는 방법을 학습합니다. \n",
    "\n",
    "왜냐하면, 때로는 정말 많은 예제들이 있을 수 있고 그렇게 되면 어느 정도의 example 들을 골라서 Prompt에 허용할건지 정해야 합니다.\n",
    "\n",
    "이유는 많은 prompt는 더 많은 비용을 지불해야 하기 때문입니다."
   ]
  },
  {
   "cell_type": "code",
   "execution_count": 2,
   "metadata": {},
   "outputs": [],
   "source": [
    "from langchain.chat_models import ChatOpenAI\n",
    "from langchain.prompts import PromptTemplate\n",
    "from langchain.prompts.few_shot import FewShotPromptTemplate\n",
    "from langchain.callbacks import StreamingStdOutCallbackHandler\n",
    "from langchain.prompts.example_selector import LengthBasedExampleSelector\n",
    "from langchain.prompts.example_selector.base import BaseExampleSelector"
   ]
  },
  {
   "cell_type": "code",
   "execution_count": 3,
   "metadata": {},
   "outputs": [
    {
     "name": "stderr",
     "output_type": "stream",
     "text": [
      "C:\\Users\\SangHyeonLee\\AppData\\Local\\Temp\\ipykernel_20236\\579124313.py:1: LangChainDeprecationWarning: The class `ChatOpenAI` was deprecated in LangChain 0.0.10 and will be removed in 1.0. An updated version of the class exists in the :class:`~langchain-openai package and should be used instead. To use it run `pip install -U :class:`~langchain-openai` and import as `from :class:`~langchain_openai import ChatOpenAI``.\n",
      "  chat = ChatOpenAI(\n"
     ]
    }
   ],
   "source": [
    "chat = ChatOpenAI(\n",
    "    temperature=0.1,        # 창의성 (0 ~ 2)\n",
    "    model='gpt-3.5-turbo',  # 사용 모델 지정 (Default : gpt-3.5-turbo)\n",
    "    streaming=True,         # Streaming ON\n",
    "    callbacks=[StreamingStdOutCallbackHandler()]\n",
    ")"
   ]
  },
  {
   "cell_type": "code",
   "execution_count": 4,
   "metadata": {},
   "outputs": [],
   "source": [
    "# 랜덤 예제 선택기 생성하기\n",
    "class RandomExampleSelector(BaseExampleSelector):\n",
    "    def __init__(self, examples):\n",
    "        self.examples = examples\n",
    "\n",
    "    def add_example(self, example):\n",
    "        self.examples.append(example)\n",
    "\n",
    "    def select_examples(self, input_variables):\n",
    "        from random import choice\n",
    "\n",
    "        return [choice(self.examples)]"
   ]
  },
  {
   "cell_type": "code",
   "execution_count": 5,
   "metadata": {},
   "outputs": [
    {
     "data": {
      "text/plain": [
       "'\\n    Human: 이탈리아에 대해 무엇을 알고 있어?\\n    AI : \\n    저는 이것을 알고 있습니다:\\n    - 수도: 로마\\n    - 언어: 이탈리아어\\n    - 음식: 피자와 파스타\\n    - 통화: 유로\\n    \\n\\n\\nHuman: korea에 대해 무엇을 알고 있어?'"
      ]
     },
     "execution_count": 5,
     "metadata": {},
     "output_type": "execute_result"
    }
   ],
   "source": [
    "# FewShot 예제\n",
    "examples = [\n",
    "{\n",
    "    \"question\": \"프랑스에 대해 무엇을 알고 있어?\",\n",
    "    \"answer\": \"\"\"\n",
    "    제가 아는 것은 다음과 같습니다:\n",
    "    - 수도: 파리\n",
    "    - 언어: 프랑스어\n",
    "    - 음식: 와인과 치즈\n",
    "    - 통화: 유로\n",
    "\"\"\",\n",
    "},\n",
    "{\n",
    "    \"question\": \"이탈리아에 대해 무엇을 알고 있어?\",\n",
    "    \"answer\": \"\"\"\n",
    "    저는 이것을 알고 있습니다:\n",
    "    - 수도: 로마\n",
    "    - 언어: 이탈리아어\n",
    "    - 음식: 피자와 파스타\n",
    "    - 통화: 유로\n",
    "    \"\"\",\n",
    "},\n",
    "{\n",
    "    \"question\": \"그리스에 대해 무엇을 알고 있어?\",\n",
    "    \"answer\": \"\"\"\n",
    "    저는 이것을 알고 있습니다:\n",
    "    - 수도: 아테네\n",
    "    - 언어: 그리스어\n",
    "    - 음식: 수블라키와 페타 치즈\n",
    "    - 통화: 유로\n",
    "    \"\"\",\n",
    "    },\n",
    "]\n",
    "\n",
    "# 1. 예제의 형식을 지정\n",
    "example_template = \"\"\"\n",
    "    Human: {question}\n",
    "    AI : {answer}\n",
    "\"\"\"\n",
    "\n",
    "example_prompt = PromptTemplate.from_template(example_template)\n",
    "\n",
    "# example_selector = LengthBasedExampleSelector(\n",
    "#     examples=examples,\n",
    "#     example_prompt=example_prompt,\n",
    "#     max_lengt=10                    # 예제의 양을 지정할 수 있습니다.\n",
    "# )\n",
    "\n",
    "example_selector = RandomExampleSelector(\n",
    "    examples=examples\n",
    ")\n",
    "\n",
    "prompt = FewShotPromptTemplate(\n",
    "    example_prompt=example_prompt,\n",
    "    example_selector=example_selector,\n",
    "    suffix=\"Human: {country}에 대해 무엇을 알고 있어?\"  ,                      # 형식화된 모든 예제 마지막에 나는 내용\n",
    "    input_variables=['country']                                             # 유효성 검사\n",
    ")\n",
    "\n",
    "prompt.format(country='korea')"
   ]
  }
 ],
 "metadata": {
  "kernelspec": {
   "display_name": "langchain",
   "language": "python",
   "name": "python3"
  },
  "language_info": {
   "codemirror_mode": {
    "name": "ipython",
    "version": 3
   },
   "file_extension": ".py",
   "mimetype": "text/x-python",
   "name": "python",
   "nbconvert_exporter": "python",
   "pygments_lexer": "ipython3",
   "version": "3.12.1"
  }
 },
 "nbformat": 4,
 "nbformat_minor": 2
}
